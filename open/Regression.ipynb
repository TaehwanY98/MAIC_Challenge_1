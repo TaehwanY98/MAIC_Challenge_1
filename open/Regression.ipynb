{
 "cells": [
  {
   "cell_type": "markdown",
   "metadata": {
    "id": "5m5LV1nWnYgJ"
   },
   "source": [
    "## 프레임워크 및 모듈 설치"
   ]
  },
  {
   "cell_type": "code",
   "execution_count": null,
   "metadata": {
    "colab": {
     "base_uri": "https://localhost:8080/"
    },
    "executionInfo": {
     "elapsed": 7182,
     "status": "ok",
     "timestamp": 1738595357587,
     "user": {
      "displayName": "Taehwan Yoon",
      "userId": "10519536935456124705"
     },
     "user_tz": -540
    },
    "id": "k54t-QxsovBa",
    "outputId": "12d9e844-b385-49c0-f7ff-7f5918473a04"
   },
   "outputs": [],
   "source": [
    "# ! pip install simpleITK\n",
    "# ! pip install tqdm\n",
    "# ! pip install torch torchvision pandas torchmetrics"
   ]
  },
  {
   "cell_type": "markdown",
   "metadata": {
    "id": "RaJnCjdLnsop"
   },
   "source": [
    "## 모듈참조"
   ]
  },
  {
   "cell_type": "code",
   "execution_count": null,
   "metadata": {
    "executionInfo": {
     "elapsed": 9227,
     "status": "ok",
     "timestamp": 1738595374558,
     "user": {
      "displayName": "Taehwan Yoon",
      "userId": "10519536935456124705"
     },
     "user_tz": -540
    },
    "id": "TlBog7n0nW2C"
   },
   "outputs": [],
   "source": [
    "import torch\n",
    "from torch import nn\n",
    "import torchvision\n",
    "from torch.utils.data import DataLoader, random_split\n",
    "from torchvision.models import resnet50\n",
    "from torchmetrics.regression import MeanSquaredError, MeanAbsoluteError\n",
    "import SimpleITK as sitk\n",
    "import pandas as pd\n",
    "from tqdm import tqdm\n",
    "import os\n",
    "import numpy as np"
   ]
  },
  {
   "cell_type": "markdown",
   "metadata": {},
   "source": [
    "#### 사용가능한 리소스 확인"
   ]
  },
  {
   "cell_type": "code",
   "execution_count": 2,
   "metadata": {
    "colab": {
     "base_uri": "https://localhost:8080/"
    },
    "executionInfo": {
     "elapsed": 450,
     "status": "ok",
     "timestamp": 1738595379407,
     "user": {
      "displayName": "Taehwan Yoon",
      "userId": "10519536935456124705"
     },
     "user_tz": -540
    },
    "id": "P6z5TmT070oh",
    "outputId": "416902e4-c35c-489e-c9a7-83600aa8f3ab"
   },
   "outputs": [
    {
     "data": {
      "text/plain": [
       "device(type='cuda')"
      ]
     },
     "execution_count": 2,
     "metadata": {},
     "output_type": "execute_result"
    }
   ],
   "source": [
    "DEVICE = torch.device(\"cuda\" if torch.cuda.is_available() else \"cpu\")\n",
    "DEVICE"
   ]
  },
  {
   "cell_type": "markdown",
   "metadata": {},
   "source": [
    "#### 파라미터 세팅\n",
    "학습성능 효율성 및 딥러닝의 불확식성을 위한 시드값 정의 x"
   ]
  },
  {
   "cell_type": "code",
   "execution_count": null,
   "metadata": {},
   "outputs": [],
   "source": [
    "batch_size = 16\n",
    "root = \"./\""
   ]
  },
  {
   "cell_type": "markdown",
   "metadata": {},
   "source": [
    "## 데이터 로드 및 분석"
   ]
  },
  {
   "cell_type": "code",
   "execution_count": null,
   "metadata": {
    "executionInfo": {
     "elapsed": 13498,
     "status": "ok",
     "timestamp": 1738595395572,
     "user": {
      "displayName": "Taehwan Yoon",
      "userId": "10519536935456124705"
     },
     "user_tz": -540
    },
    "id": "sO454yiDwwva"
   },
   "outputs": [
    {
     "name": "stdout",
     "output_type": "stream",
     "text": [
      "3469\n",
      "3468\n",
      "True\n"
     ]
    }
   ],
   "source": [
    "trainframe = pd.read_csv(f'{root}train.csv')\n",
    "testframe = pd.read_csv(f'{root}test.csv')\n",
    "submissionframe = pd.read_csv(f'{root}sample_submission.csv')\n",
    "print(len(trainframe.columns))\n",
    "print(len(submissionframe.columns))\n",
    "print((trainframe.columns[2:]==submissionframe.columns[1:]).all()) # 제출파일에 이상이 있는지 체크\n",
    "classnum = len(trainframe.loc[0].keys())-2 #클래스 개수"
   ]
  },
  {
   "cell_type": "markdown",
   "metadata": {},
   "source": [
    "## 평가 메트릭 구현"
   ]
  },
  {
   "cell_type": "code",
   "execution_count": 6,
   "metadata": {
    "colab": {
     "base_uri": "https://localhost:8080/",
     "height": 424
    },
    "executionInfo": {
     "elapsed": 444,
     "status": "ok",
     "timestamp": 1738595403599,
     "user": {
      "displayName": "Taehwan Yoon",
      "userId": "10519536935456124705"
     },
     "user_tz": -540
    },
    "id": "RdomboD7cNEX",
    "outputId": "56e13fe5-e560-4656-8832-dae1b993ace0"
   },
   "outputs": [],
   "source": [
    "class MeanCellCorrelation(torch.nn.Module):\n",
    "    def __init__(self, *args, **kwargs):\n",
    "        super().__init__(*args, **kwargs)\n",
    "    def forward(self, pred, target):\n",
    "        batch_size=pred.size()[0]\n",
    "        targetvar= target-target.mean()\n",
    "        predvar = pred-pred.mean()\n",
    "        return (((targetvar*predvar)/ ((targetvar*targetvar).sqrt()* (predvar*predvar).sqrt()+1e-7)).mean(dim=1)).mean()\n",
    "\n",
    "class MeanGenesCorrelation(torch.nn.Module):\n",
    "    def __init__(self, *args, **kwargs):\n",
    "        super().__init__(*args, **kwargs)\n",
    "    def forward(self, pred, target):\n",
    "        batch_size=pred.size()[0]\n",
    "        targetvar= target-target.mean()\n",
    "        predvar = pred-pred.mean()\n",
    "\n",
    "        return (((targetvar*predvar)/ ((targetvar*targetvar).sqrt()* (predvar*predvar).sqrt()+1e-7)).mean(dim=1)).max()\n",
    "    \n",
    "class CustomLoss(torch.nn.Module):\n",
    "    def __init__(self, *args, **kwargs):\n",
    "        super().__init__(*args, **kwargs)\n",
    "        self.metricf = nn.SmoothL1Loss(beta=2)\n",
    "        self.metricf2 = nn.HuberLoss(delta=0.5)\n",
    "    def forward(self, pred, target):\n",
    "        metric = self.metricf(pred, target)\n",
    "        metric = self.metricf2(pred, target)\n",
    "        return metric "
   ]
  },
  {
   "cell_type": "markdown",
   "metadata": {},
   "source": [
    "## 유틸 클래스 및 함수정의\n",
    "#### 딥러닝 데이터셋"
   ]
  },
  {
   "cell_type": "code",
   "execution_count": 8,
   "metadata": {
    "executionInfo": {
     "elapsed": 436,
     "status": "ok",
     "timestamp": 1738595492657,
     "user": {
      "displayName": "Taehwan Yoon",
      "userId": "10519536935456124705"
     },
     "user_tz": -540
    },
    "id": "FKpsucIO1Qyp"
   },
   "outputs": [],
   "source": [
    "class Dataset(object):\n",
    "  def __init__(self, frame, datadir, trainmode=True) -> None:\n",
    "    super().__init__()\n",
    "    self.frame = frame\n",
    "    self.datadir = datadir\n",
    "    self.trainmode = trainmode\n",
    "  def __getitem__(self, index):\n",
    "    row = self.frame.loc[index]\n",
    "    path = os.path.join(self.datadir, row['ID']+\".png\")\n",
    "    img = sitk.ReadImage(path)\n",
    "    img = sitk.GetArrayFromImage(img)\n",
    "    label = row.iloc[2:].apply(lambda x: float(x))\n",
    "    ret = {\n",
    "      \"img\": torchvision.transforms.ToTensor()(img).type(torch.float32),\n",
    "      \"label\": torch.Tensor(label)\n",
    "    }\n",
    "    return ret\n",
    "\n",
    "  def __len__(self):\n",
    "    return len(self.frame)"
   ]
  },
  {
   "cell_type": "markdown",
   "metadata": {},
   "source": [
    "#### 데이터 분할 및 로더"
   ]
  },
  {
   "cell_type": "code",
   "execution_count": 9,
   "metadata": {
    "executionInfo": {
     "elapsed": 413,
     "status": "ok",
     "timestamp": 1738595498189,
     "user": {
      "displayName": "Taehwan Yoon",
      "userId": "10519536935456124705"
     },
     "user_tz": -540
    },
    "id": "zNfJj0Cm4cLy"
   },
   "outputs": [],
   "source": [
    "dataset = Dataset(trainframe, f\"{root}train\")\n",
    "trainset, validset = random_split(dataset, [0.9, 0.1])\n",
    "trainloader = DataLoader(trainset, batch_size=batch_size, shuffle=True, collate_fn=lambda x: x)\n",
    "validloader = DataLoader(validset, batch_size=batch_size, shuffle=False, collate_fn=lambda x: x)\n",
    "testloader = DataLoader(Dataset(testframe, f\"{root}test\", False), batch_size=batch_size, shuffle=False, collate_fn=lambda x: x)"
   ]
  },
  {
   "cell_type": "markdown",
   "metadata": {},
   "source": [
    "## 모델 정의\n",
    "#### 어텐션 모델 적용 및 응용"
   ]
  },
  {
   "cell_type": "code",
   "execution_count": 10,
   "metadata": {},
   "outputs": [],
   "source": [
    "class CustomResNet(torch.nn.Module):\n",
    "  def __init__(self, outchannel) -> None:\n",
    "    super().__init__()\n",
    "    self.net = resnet50()\n",
    "    self.attention = CBAM(outchannel)\n",
    "    self.net.fc = torch.nn.Sequential(\n",
    "        torch.nn.Dropout(p=0.1, inplace=True),\n",
    "        torch.nn.Linear(in_features=2048, out_features=outchannel, bias=False))\n",
    "  def forward(self, x):\n",
    "    x = self.net(x)\n",
    "    x = self.attention(x.unsqueeze(-1).unsqueeze(-1))\n",
    "    return x\n",
    "  \n",
    "class CBAM(nn.Module):\n",
    "    def __init__(self, channel, reduction=16):\n",
    "        super(CBAM, self).__init__()\n",
    "        self.avg_pool = nn.AdaptiveAvgPool2d(1)\n",
    "        self.max_pool = nn.AdaptiveMaxPool2d(1)\n",
    "        # Channel Attention\n",
    "        self.channel_fc = nn.Sequential(\n",
    "            nn.Linear(channel, channel // reduction),\n",
    "            nn.ReLU(inplace=True),\n",
    "            nn.Linear(channel // reduction, channel)\n",
    "        )\n",
    "        \n",
    "        # Spatial Attention\n",
    "        self.spatial_conv = nn.Conv2d(2, 1, kernel_size=7, padding=3, bias=False)\n",
    "        \n",
    "    def forward(self, x):\n",
    "        b, c, w, h = x.size()\n",
    "        \n",
    "        # Channel Attention\n",
    "        avg_out = self.channel_fc(self.avg_pool(x).view(b, c))\n",
    "        max_out = self.channel_fc(self.max_pool(x).view(b, c))\n",
    "        channel_att = torch.sigmoid(avg_out + max_out).view(b, c, 1, 1)\n",
    "        \n",
    "        x = x * channel_att\n",
    "        \n",
    "        # Spatial Attention\n",
    "        avg_out = torch.mean(x, dim=1, keepdim=True)\n",
    "        max_out, _ = torch.max(x, dim=1, keepdim=True)\n",
    "        spatial_att = torch.sigmoid(self.spatial_conv(torch.cat([avg_out, max_out], dim=1)))\n",
    "        \n",
    "        return (x * spatial_att).squeeze()"
   ]
  },
  {
   "cell_type": "markdown",
   "metadata": {},
   "source": [
    "#### 학습 및 평가 함수 정의"
   ]
  },
  {
   "cell_type": "code",
   "execution_count": null,
   "metadata": {
    "executionInfo": {
     "elapsed": 2,
     "status": "ok",
     "timestamp": 1738595503327,
     "user": {
      "displayName": "Taehwan Yoon",
      "userId": "10519536935456124705"
     },
     "user_tz": -540
    },
    "id": "AWSXTmEI6ChI"
   },
   "outputs": [],
   "source": [
    "def valid(net, validloader, device):\n",
    "    maef = MeanAbsoluteError().to(device)\n",
    "    msef = MeanSquaredError().to(device)\n",
    "    mccf = MeanCellCorrelation().to(device)\n",
    "    mgcf = MeanGenesCorrelation().to(device)\n",
    "    net.eval()\n",
    "    mae = 0\n",
    "    mse = 0\n",
    "    mcc = 0\n",
    "    mgc = 0\n",
    "    length = len(validloader)\n",
    "    with torch.no_grad():\n",
    "        for batch in tqdm(validloader):\n",
    "          \n",
    "          img= [b[\"img\"].to(device) for b in batch]\n",
    "          label = [b[\"label\"].to(device) for b in batch]\n",
    "          img = torch.stack(img)\n",
    "          label = torch.stack(label)\n",
    "          out = net(img)\n",
    "          mae += maef(out, label).item()\n",
    "          mse += msef(out, label).item()\n",
    "          mcc += mccf(out, label).item()\n",
    "          mgc += mgcf(out, label).item()\n",
    "\n",
    "    return {\"mse\": mse/length, \"mae\": mae/length, \"mcc\": mcc/length, \"mgc\": mgc/length}\n",
    "\n",
    "def train(net, loader, validloader, epoch, optimizer, loss_fn, device, save_dir ):\n",
    "  length = len(loader)\n",
    "  history = {\"mcc\":[], \"mgc\":[], \"loss\":[],\"mse\":[]}\n",
    "  for e in range(epoch):\n",
    "      losses=0\n",
    "      for batch in tqdm(loader):\n",
    "          net.train()\n",
    "          img= [b[\"img\"] for b in batch]\n",
    "          label = [b[\"label\"].to(device) for b in batch]\n",
    "          img = torch.stack(img).to(device)\n",
    "          label = torch.stack(label).to(device)\n",
    "          output = net(img)\n",
    "          loss = loss_fn(output, label)\n",
    "          loss.backward()\n",
    "          optimizer.step()\n",
    "          optimizer.zero_grad()\n",
    "          losses+=loss.item()\n",
    "  \n",
    "      hist = valid(net, validloader, device)\n",
    "      mae = hist[\"mae\"]\n",
    "      mse = hist[\"mse\"]\n",
    "      mcc = hist[\"mcc\"]\n",
    "      mgc = hist[\"mgc\"]\n",
    "      print(f'epoch: {e+1}, loss: {losses/length} mse: {mse} mae: {mae} mcc: {mcc} mgc: {mgc}')\n",
    "      if e == 0:\n",
    "        torch.save(net.state_dict(), os.path.join(save_dir, \"net.pt\"))\n",
    "        print(\"model is updated\")\n",
    "      else:\n",
    "        eval = np.array(history[\"mse\"])\n",
    "        if eval.min() >= mse:\n",
    "           torch.save(net.state_dict(), os.path.join(save_dir, \"net.pt\"))\n",
    "           print(\"model is updated\")\n",
    "      history[\"mcc\"].append(mcc); history[\"mgc\"].append(mgc); history[\"loss\"].append(losses/length); history[\"mse\"].append(mse)\n",
    "  return history"
   ]
  },
  {
   "cell_type": "markdown",
   "metadata": {},
   "source": [
    "#### 실제학습을위한 모델 준비"
   ]
  },
  {
   "cell_type": "code",
   "execution_count": 16,
   "metadata": {
    "executionInfo": {
     "elapsed": 1242,
     "status": "ok",
     "timestamp": 1738595567347,
     "user": {
      "displayName": "Taehwan Yoon",
      "userId": "10519536935456124705"
     },
     "user_tz": -540
    },
    "id": "zKKGRV0q699x"
   },
   "outputs": [
    {
     "name": "stdout",
     "output_type": "stream",
     "text": [
      "model is ready\n"
     ]
    }
   ],
   "source": [
    "net = CustomResNet(classnum)\n",
    "optimizer = torch.optim.Adam(net.parameters(), lr=1e-4)\n",
    "loss_fn = CustomLoss().to(DEVICE)\n",
    "net.float()\n",
    "net.to(DEVICE)\n",
    "print(\"model is ready\")"
   ]
  },
  {
   "cell_type": "markdown",
   "metadata": {},
   "source": [
    "## 학습"
   ]
  },
  {
   "cell_type": "code",
   "execution_count": 13,
   "metadata": {
    "colab": {
     "base_uri": "https://localhost:8080/"
    },
    "id": "-P8SDZ4h_kep",
    "outputId": "0f4d3e76-bd9c-4045-ee82-baa037d43b65"
   },
   "outputs": [
    {
     "name": "stderr",
     "output_type": "stream",
     "text": [
      "  0%|          | 0/394 [00:00<?, ?it/s]/tmp/ipykernel_466337/1969552246.py:15: FutureWarning: Series.__getitem__ treating keys as positions is deprecated. In a future version, integer keys will always be treated as labels (consistent with DataFrame behavior). To access a value by position, use `ser.iloc[pos]`\n",
      "  \"label\": torch.Tensor(label)\n",
      "100%|██████████| 394/394 [00:59<00:00,  6.64it/s]\n",
      "100%|██████████| 44/44 [00:04<00:00,  9.03it/s]\n"
     ]
    },
    {
     "name": "stdout",
     "output_type": "stream",
     "text": [
      "epoch: 1, loss: 0.020740919685000695 mse: 0.04757165053690022 mae: 0.08682807788930157 mcc: 0.754357944835316 mgc: 0.7853068912571127\n",
      "model is updated\n"
     ]
    },
    {
     "name": "stderr",
     "output_type": "stream",
     "text": [
      "100%|██████████| 394/394 [00:58<00:00,  6.69it/s]\n",
      "100%|██████████| 44/44 [00:04<00:00,  9.45it/s]\n"
     ]
    },
    {
     "name": "stdout",
     "output_type": "stream",
     "text": [
      "epoch: 2, loss: 0.019463650333851123 mse: 0.046899140304462475 mae: 0.0863194213333455 mcc: 0.7558432370424271 mgc: 0.8005370633168654\n",
      "model is updated\n"
     ]
    },
    {
     "name": "stderr",
     "output_type": "stream",
     "text": [
      "100%|██████████| 394/394 [01:01<00:00,  6.40it/s]\n",
      "100%|██████████| 44/44 [00:04<00:00,  9.84it/s]\n"
     ]
    },
    {
     "name": "stdout",
     "output_type": "stream",
     "text": [
      "epoch: 3, loss: 0.0193318032522492 mse: 0.046493556519800965 mae: 0.08974541283466599 mcc: 0.7383367229591716 mgc: 0.7946212115612897\n",
      "model is updated\n"
     ]
    },
    {
     "name": "stderr",
     "output_type": "stream",
     "text": [
      "100%|██████████| 394/394 [01:00<00:00,  6.52it/s]\n",
      "100%|██████████| 44/44 [00:04<00:00,  9.79it/s]\n"
     ]
    },
    {
     "name": "stdout",
     "output_type": "stream",
     "text": [
      "epoch: 4, loss: 0.019258778140440507 mse: 0.04688257935710929 mae: 0.08792756667191332 mcc: 0.751555017449639 mgc: 0.7976691682230342\n"
     ]
    },
    {
     "name": "stderr",
     "output_type": "stream",
     "text": [
      "100%|██████████| 394/394 [01:01<00:00,  6.45it/s]\n",
      "100%|██████████| 44/44 [00:04<00:00,  9.75it/s]\n"
     ]
    },
    {
     "name": "stdout",
     "output_type": "stream",
     "text": [
      "epoch: 5, loss: 0.019197680642308316 mse: 0.04668862745165825 mae: 0.08950595947151835 mcc: 0.7448597658764232 mgc: 0.7981776838952844\n"
     ]
    },
    {
     "name": "stderr",
     "output_type": "stream",
     "text": [
      "100%|██████████| 394/394 [01:00<00:00,  6.54it/s]\n",
      "100%|██████████| 44/44 [00:04<00:00,  9.82it/s]\n"
     ]
    },
    {
     "name": "stdout",
     "output_type": "stream",
     "text": [
      "epoch: 6, loss: 0.019167903709097715 mse: 0.04734226477078416 mae: 0.08521600270813162 mcc: 0.7663702084259554 mgc: 0.8219195902347565\n"
     ]
    },
    {
     "name": "stderr",
     "output_type": "stream",
     "text": [
      "100%|██████████| 394/394 [01:01<00:00,  6.45it/s]\n",
      "100%|██████████| 44/44 [00:04<00:00,  9.51it/s]\n"
     ]
    },
    {
     "name": "stdout",
     "output_type": "stream",
     "text": [
      "epoch: 7, loss: 0.019133534469183176 mse: 0.04646640321747823 mae: 0.0907300626012412 mcc: 0.7378598045219075 mgc: 0.8035046566616405\n",
      "model is updated\n"
     ]
    },
    {
     "name": "stderr",
     "output_type": "stream",
     "text": [
      "100%|██████████| 394/394 [01:00<00:00,  6.48it/s]\n",
      "100%|██████████| 44/44 [00:04<00:00,  9.88it/s]\n"
     ]
    },
    {
     "name": "stdout",
     "output_type": "stream",
     "text": [
      "epoch: 8, loss: 0.019108942660224164 mse: 0.0467190837318247 mae: 0.08720715953545137 mcc: 0.75529645383358 mgc: 0.8093236915089868\n"
     ]
    },
    {
     "name": "stderr",
     "output_type": "stream",
     "text": [
      "100%|██████████| 394/394 [01:00<00:00,  6.48it/s]\n",
      "100%|██████████| 44/44 [00:04<00:00,  9.82it/s]\n"
     ]
    },
    {
     "name": "stdout",
     "output_type": "stream",
     "text": [
      "epoch: 9, loss: 0.019084869259921124 mse: 0.0463532999327237 mae: 0.08753386986526576 mcc: 0.750680301677097 mgc: 0.8194150978868658\n",
      "model is updated\n"
     ]
    },
    {
     "name": "stderr",
     "output_type": "stream",
     "text": [
      "100%|██████████| 394/394 [01:00<00:00,  6.48it/s]\n",
      "100%|██████████| 44/44 [00:04<00:00,  9.84it/s]\n"
     ]
    },
    {
     "name": "stdout",
     "output_type": "stream",
     "text": [
      "epoch: 10, loss: 0.019038026320374556 mse: 0.0471722778271545 mae: 0.09035758623345332 mcc: 0.7377400303428824 mgc: 0.821353405714035\n"
     ]
    },
    {
     "name": "stderr",
     "output_type": "stream",
     "text": [
      "100%|██████████| 394/394 [00:58<00:00,  6.74it/s]\n",
      "100%|██████████| 44/44 [00:04<00:00,  9.83it/s]\n"
     ]
    },
    {
     "name": "stdout",
     "output_type": "stream",
     "text": [
      "epoch: 11, loss: 0.01900999821476676 mse: 0.0471391019157388 mae: 0.08879066207869486 mcc: 0.7476014684547078 mgc: 0.8167427737604488\n"
     ]
    },
    {
     "name": "stderr",
     "output_type": "stream",
     "text": [
      "100%|██████████| 394/394 [00:58<00:00,  6.73it/s]\n",
      "100%|██████████| 44/44 [00:04<00:00,  9.83it/s]\n"
     ]
    },
    {
     "name": "stdout",
     "output_type": "stream",
     "text": [
      "epoch: 12, loss: 0.018966744488417196 mse: 0.047036417590623554 mae: 0.08735913597047329 mcc: 0.7553093067624352 mgc: 0.8221081549471075\n"
     ]
    },
    {
     "name": "stderr",
     "output_type": "stream",
     "text": [
      " 54%|█████▍    | 214/394 [00:31<00:26,  6.74it/s]\n"
     ]
    },
    {
     "ename": "KeyboardInterrupt",
     "evalue": "",
     "output_type": "error",
     "traceback": [
      "\u001b[0;31m---------------------------------------------------------------------------\u001b[0m",
      "\u001b[0;31mKeyboardInterrupt\u001b[0m                         Traceback (most recent call last)",
      "Cell \u001b[0;32mIn[13], line 1\u001b[0m\n\u001b[0;32m----> 1\u001b[0m \u001b[43mtrain\u001b[49m\u001b[43m(\u001b[49m\u001b[43mnet\u001b[49m\u001b[43m,\u001b[49m\u001b[43m \u001b[49m\u001b[43mtrainloader\u001b[49m\u001b[43m,\u001b[49m\u001b[43m \u001b[49m\u001b[43mvalidloader\u001b[49m\u001b[43m,\u001b[49m\u001b[43m \u001b[49m\u001b[38;5;241;43m80\u001b[39;49m\u001b[43m,\u001b[49m\u001b[43m \u001b[49m\u001b[43moptimizer\u001b[49m\u001b[43m,\u001b[49m\u001b[43m \u001b[49m\u001b[43mloss_fn\u001b[49m\u001b[43m,\u001b[49m\u001b[43m \u001b[49m\u001b[43mDEVICE\u001b[49m\u001b[43m,\u001b[49m\u001b[43m \u001b[49m\u001b[38;5;124;43mf\u001b[39;49m\u001b[38;5;124;43m\"\u001b[39;49m\u001b[38;5;132;43;01m{\u001b[39;49;00m\u001b[43mroot\u001b[49m\u001b[38;5;132;43;01m}\u001b[39;49;00m\u001b[38;5;124;43mModels\u001b[39;49m\u001b[38;5;124;43m\"\u001b[39;49m\u001b[43m)\u001b[49m\n",
      "Cell \u001b[0;32mIn[11], line 40\u001b[0m, in \u001b[0;36mtrain\u001b[0;34m(net, loader, validloader, epoch, optimizer, loss_fn, device, save_dir)\u001b[0m\n\u001b[1;32m     38\u001b[0m output \u001b[38;5;241m=\u001b[39m net(img)\n\u001b[1;32m     39\u001b[0m loss \u001b[38;5;241m=\u001b[39m loss_fn(output, label)\n\u001b[0;32m---> 40\u001b[0m \u001b[43mloss\u001b[49m\u001b[38;5;241;43m.\u001b[39;49m\u001b[43mbackward\u001b[49m\u001b[43m(\u001b[49m\u001b[43m)\u001b[49m\n\u001b[1;32m     41\u001b[0m optimizer\u001b[38;5;241m.\u001b[39mstep()\n\u001b[1;32m     42\u001b[0m optimizer\u001b[38;5;241m.\u001b[39mzero_grad()\n",
      "File \u001b[0;32m~/micromamba/lib/python3.9/site-packages/torch/_tensor.py:626\u001b[0m, in \u001b[0;36mTensor.backward\u001b[0;34m(self, gradient, retain_graph, create_graph, inputs)\u001b[0m\n\u001b[1;32m    616\u001b[0m \u001b[38;5;28;01mif\u001b[39;00m has_torch_function_unary(\u001b[38;5;28mself\u001b[39m):\n\u001b[1;32m    617\u001b[0m     \u001b[38;5;28;01mreturn\u001b[39;00m handle_torch_function(\n\u001b[1;32m    618\u001b[0m         Tensor\u001b[38;5;241m.\u001b[39mbackward,\n\u001b[1;32m    619\u001b[0m         (\u001b[38;5;28mself\u001b[39m,),\n\u001b[0;32m   (...)\u001b[0m\n\u001b[1;32m    624\u001b[0m         inputs\u001b[38;5;241m=\u001b[39minputs,\n\u001b[1;32m    625\u001b[0m     )\n\u001b[0;32m--> 626\u001b[0m \u001b[43mtorch\u001b[49m\u001b[38;5;241;43m.\u001b[39;49m\u001b[43mautograd\u001b[49m\u001b[38;5;241;43m.\u001b[39;49m\u001b[43mbackward\u001b[49m\u001b[43m(\u001b[49m\n\u001b[1;32m    627\u001b[0m \u001b[43m    \u001b[49m\u001b[38;5;28;43mself\u001b[39;49m\u001b[43m,\u001b[49m\u001b[43m \u001b[49m\u001b[43mgradient\u001b[49m\u001b[43m,\u001b[49m\u001b[43m \u001b[49m\u001b[43mretain_graph\u001b[49m\u001b[43m,\u001b[49m\u001b[43m \u001b[49m\u001b[43mcreate_graph\u001b[49m\u001b[43m,\u001b[49m\u001b[43m \u001b[49m\u001b[43minputs\u001b[49m\u001b[38;5;241;43m=\u001b[39;49m\u001b[43minputs\u001b[49m\n\u001b[1;32m    628\u001b[0m \u001b[43m\u001b[49m\u001b[43m)\u001b[49m\n",
      "File \u001b[0;32m~/micromamba/lib/python3.9/site-packages/torch/autograd/__init__.py:347\u001b[0m, in \u001b[0;36mbackward\u001b[0;34m(tensors, grad_tensors, retain_graph, create_graph, grad_variables, inputs)\u001b[0m\n\u001b[1;32m    342\u001b[0m     retain_graph \u001b[38;5;241m=\u001b[39m create_graph\n\u001b[1;32m    344\u001b[0m \u001b[38;5;66;03m# The reason we repeat the same comment below is that\u001b[39;00m\n\u001b[1;32m    345\u001b[0m \u001b[38;5;66;03m# some Python versions print out the first line of a multi-line function\u001b[39;00m\n\u001b[1;32m    346\u001b[0m \u001b[38;5;66;03m# calls in the traceback and some print out the last line\u001b[39;00m\n\u001b[0;32m--> 347\u001b[0m \u001b[43m_engine_run_backward\u001b[49m\u001b[43m(\u001b[49m\n\u001b[1;32m    348\u001b[0m \u001b[43m    \u001b[49m\u001b[43mtensors\u001b[49m\u001b[43m,\u001b[49m\n\u001b[1;32m    349\u001b[0m \u001b[43m    \u001b[49m\u001b[43mgrad_tensors_\u001b[49m\u001b[43m,\u001b[49m\n\u001b[1;32m    350\u001b[0m \u001b[43m    \u001b[49m\u001b[43mretain_graph\u001b[49m\u001b[43m,\u001b[49m\n\u001b[1;32m    351\u001b[0m \u001b[43m    \u001b[49m\u001b[43mcreate_graph\u001b[49m\u001b[43m,\u001b[49m\n\u001b[1;32m    352\u001b[0m \u001b[43m    \u001b[49m\u001b[43minputs\u001b[49m\u001b[43m,\u001b[49m\n\u001b[1;32m    353\u001b[0m \u001b[43m    \u001b[49m\u001b[43mallow_unreachable\u001b[49m\u001b[38;5;241;43m=\u001b[39;49m\u001b[38;5;28;43;01mTrue\u001b[39;49;00m\u001b[43m,\u001b[49m\n\u001b[1;32m    354\u001b[0m \u001b[43m    \u001b[49m\u001b[43maccumulate_grad\u001b[49m\u001b[38;5;241;43m=\u001b[39;49m\u001b[38;5;28;43;01mTrue\u001b[39;49;00m\u001b[43m,\u001b[49m\n\u001b[1;32m    355\u001b[0m \u001b[43m\u001b[49m\u001b[43m)\u001b[49m\n",
      "File \u001b[0;32m~/micromamba/lib/python3.9/site-packages/torch/autograd/graph.py:823\u001b[0m, in \u001b[0;36m_engine_run_backward\u001b[0;34m(t_outputs, *args, **kwargs)\u001b[0m\n\u001b[1;32m    821\u001b[0m     unregister_hooks \u001b[38;5;241m=\u001b[39m _register_logging_hooks_on_whole_graph(t_outputs)\n\u001b[1;32m    822\u001b[0m \u001b[38;5;28;01mtry\u001b[39;00m:\n\u001b[0;32m--> 823\u001b[0m     \u001b[38;5;28;01mreturn\u001b[39;00m \u001b[43mVariable\u001b[49m\u001b[38;5;241;43m.\u001b[39;49m\u001b[43m_execution_engine\u001b[49m\u001b[38;5;241;43m.\u001b[39;49m\u001b[43mrun_backward\u001b[49m\u001b[43m(\u001b[49m\u001b[43m  \u001b[49m\u001b[38;5;66;43;03m# Calls into the C++ engine to run the backward pass\u001b[39;49;00m\n\u001b[1;32m    824\u001b[0m \u001b[43m        \u001b[49m\u001b[43mt_outputs\u001b[49m\u001b[43m,\u001b[49m\u001b[43m \u001b[49m\u001b[38;5;241;43m*\u001b[39;49m\u001b[43margs\u001b[49m\u001b[43m,\u001b[49m\u001b[43m \u001b[49m\u001b[38;5;241;43m*\u001b[39;49m\u001b[38;5;241;43m*\u001b[39;49m\u001b[43mkwargs\u001b[49m\n\u001b[1;32m    825\u001b[0m \u001b[43m    \u001b[49m\u001b[43m)\u001b[49m  \u001b[38;5;66;03m# Calls into the C++ engine to run the backward pass\u001b[39;00m\n\u001b[1;32m    826\u001b[0m \u001b[38;5;28;01mfinally\u001b[39;00m:\n\u001b[1;32m    827\u001b[0m     \u001b[38;5;28;01mif\u001b[39;00m attach_logging_hooks:\n",
      "\u001b[0;31mKeyboardInterrupt\u001b[0m: "
     ]
    }
   ],
   "source": [
    "train(net, trainloader, validloader, 80, optimizer, loss_fn, DEVICE, f\"{root}Models\")"
   ]
  },
  {
   "cell_type": "markdown",
   "metadata": {},
   "source": [
    "## 제출및 결과"
   ]
  },
  {
   "cell_type": "code",
   "execution_count": 14,
   "metadata": {
    "id": "Dy_NMux8Jeh3"
   },
   "outputs": [],
   "source": [
    "def submission(net, testloader, device, keys, subframePath = f'{root}sample_submission.csv'):\n",
    "  net.eval()\n",
    "  submit = pd.read_csv(subframePath)\n",
    "  submit.iloc[:, 1:] = inference(net, testloader, device).astype(np.float32)\n",
    "  submit.to_csv('./result.csv', index=False)\n",
    "  return submit\n",
    "def inference(model, test_loader, device):\n",
    "    model.eval()\n",
    "    preds = []\n",
    "    with torch.no_grad():\n",
    "        for batch in tqdm(test_loader):\n",
    "            img= [b[\"img\"].to(device) for b in batch]\n",
    "            img = torch.stack(img)\n",
    "            pred = model(img)\n",
    "            preds.append(pred.detach().cpu())\n",
    "    \n",
    "    preds = torch.cat(preds).numpy()\n",
    "\n",
    "    return preds"
   ]
  },
  {
   "cell_type": "markdown",
   "metadata": {},
   "source": [
    "#### 체크포인트 모델 로드 및 결과"
   ]
  },
  {
   "cell_type": "code",
   "execution_count": 15,
   "metadata": {
    "id": "6MAhgfexQJG4"
   },
   "outputs": [
    {
     "name": "stderr",
     "output_type": "stream",
     "text": [
      "100%|██████████| 143/143 [00:07<00:00, 19.51it/s]\n"
     ]
    },
    {
     "data": {
      "text/html": [
       "<div>\n",
       "<style scoped>\n",
       "    .dataframe tbody tr th:only-of-type {\n",
       "        vertical-align: middle;\n",
       "    }\n",
       "\n",
       "    .dataframe tbody tr th {\n",
       "        vertical-align: top;\n",
       "    }\n",
       "\n",
       "    .dataframe thead th {\n",
       "        text-align: right;\n",
       "    }\n",
       "</style>\n",
       "<table border=\"1\" class=\"dataframe\">\n",
       "  <thead>\n",
       "    <tr style=\"text-align: right;\">\n",
       "      <th></th>\n",
       "      <th>ID</th>\n",
       "      <th>AL645608.7</th>\n",
       "      <th>HES4</th>\n",
       "      <th>TNFRSF18</th>\n",
       "      <th>TNFRSF4</th>\n",
       "      <th>SDF4</th>\n",
       "      <th>ACAP3</th>\n",
       "      <th>INTS11</th>\n",
       "      <th>MXRA8</th>\n",
       "      <th>AL391244.2</th>\n",
       "      <th>...</th>\n",
       "      <th>MT-ATP8</th>\n",
       "      <th>MT-ATP6</th>\n",
       "      <th>MT-CO3</th>\n",
       "      <th>MT-ND3</th>\n",
       "      <th>MT-ND4L</th>\n",
       "      <th>MT-ND4</th>\n",
       "      <th>MT-ND5</th>\n",
       "      <th>MT-CYB</th>\n",
       "      <th>BX004987.1</th>\n",
       "      <th>AL592183.1</th>\n",
       "    </tr>\n",
       "  </thead>\n",
       "  <tbody>\n",
       "    <tr>\n",
       "      <th>0</th>\n",
       "      <td>TEST_0000</td>\n",
       "      <td>-0.000328</td>\n",
       "      <td>0.033912</td>\n",
       "      <td>0.000413</td>\n",
       "      <td>-0.000858</td>\n",
       "      <td>0.155625</td>\n",
       "      <td>0.026579</td>\n",
       "      <td>0.091520</td>\n",
       "      <td>0.038175</td>\n",
       "      <td>0.001255</td>\n",
       "      <td>...</td>\n",
       "      <td>0.130246</td>\n",
       "      <td>3.652415</td>\n",
       "      <td>4.063092</td>\n",
       "      <td>3.036614</td>\n",
       "      <td>0.712508</td>\n",
       "      <td>3.625293</td>\n",
       "      <td>1.190471</td>\n",
       "      <td>3.521472</td>\n",
       "      <td>-0.000270</td>\n",
       "      <td>0.000689</td>\n",
       "    </tr>\n",
       "    <tr>\n",
       "      <th>1</th>\n",
       "      <td>TEST_0001</td>\n",
       "      <td>-0.000148</td>\n",
       "      <td>0.015827</td>\n",
       "      <td>-0.000187</td>\n",
       "      <td>0.003037</td>\n",
       "      <td>0.660968</td>\n",
       "      <td>0.069624</td>\n",
       "      <td>0.181265</td>\n",
       "      <td>0.062043</td>\n",
       "      <td>-0.000183</td>\n",
       "      <td>...</td>\n",
       "      <td>0.229034</td>\n",
       "      <td>3.200570</td>\n",
       "      <td>3.393326</td>\n",
       "      <td>2.687198</td>\n",
       "      <td>0.880518</td>\n",
       "      <td>3.128765</td>\n",
       "      <td>1.241677</td>\n",
       "      <td>2.905874</td>\n",
       "      <td>0.000151</td>\n",
       "      <td>-0.000033</td>\n",
       "    </tr>\n",
       "    <tr>\n",
       "      <th>2</th>\n",
       "      <td>TEST_0002</td>\n",
       "      <td>-0.000049</td>\n",
       "      <td>0.017929</td>\n",
       "      <td>-0.000177</td>\n",
       "      <td>0.003634</td>\n",
       "      <td>0.637279</td>\n",
       "      <td>0.067224</td>\n",
       "      <td>0.168017</td>\n",
       "      <td>0.060014</td>\n",
       "      <td>-0.000046</td>\n",
       "      <td>...</td>\n",
       "      <td>0.242973</td>\n",
       "      <td>3.219442</td>\n",
       "      <td>3.390536</td>\n",
       "      <td>2.712713</td>\n",
       "      <td>0.861027</td>\n",
       "      <td>3.144180</td>\n",
       "      <td>1.225822</td>\n",
       "      <td>2.919336</td>\n",
       "      <td>0.000111</td>\n",
       "      <td>0.000316</td>\n",
       "    </tr>\n",
       "    <tr>\n",
       "      <th>3</th>\n",
       "      <td>TEST_0003</td>\n",
       "      <td>-0.000289</td>\n",
       "      <td>0.024179</td>\n",
       "      <td>0.000924</td>\n",
       "      <td>0.002239</td>\n",
       "      <td>0.556892</td>\n",
       "      <td>0.059299</td>\n",
       "      <td>0.156795</td>\n",
       "      <td>0.065863</td>\n",
       "      <td>0.000461</td>\n",
       "      <td>...</td>\n",
       "      <td>0.131123</td>\n",
       "      <td>3.050404</td>\n",
       "      <td>3.263935</td>\n",
       "      <td>2.499124</td>\n",
       "      <td>0.557684</td>\n",
       "      <td>2.961166</td>\n",
       "      <td>0.941910</td>\n",
       "      <td>2.749718</td>\n",
       "      <td>-0.000274</td>\n",
       "      <td>0.000730</td>\n",
       "    </tr>\n",
       "    <tr>\n",
       "      <th>4</th>\n",
       "      <td>TEST_0004</td>\n",
       "      <td>-0.000608</td>\n",
       "      <td>0.027104</td>\n",
       "      <td>-0.000253</td>\n",
       "      <td>0.002477</td>\n",
       "      <td>0.649496</td>\n",
       "      <td>0.077538</td>\n",
       "      <td>0.180734</td>\n",
       "      <td>0.066633</td>\n",
       "      <td>-0.000031</td>\n",
       "      <td>...</td>\n",
       "      <td>0.319531</td>\n",
       "      <td>3.616661</td>\n",
       "      <td>4.009782</td>\n",
       "      <td>3.272632</td>\n",
       "      <td>1.168183</td>\n",
       "      <td>3.524832</td>\n",
       "      <td>1.587888</td>\n",
       "      <td>3.427722</td>\n",
       "      <td>-0.000052</td>\n",
       "      <td>0.001007</td>\n",
       "    </tr>\n",
       "    <tr>\n",
       "      <th>...</th>\n",
       "      <td>...</td>\n",
       "      <td>...</td>\n",
       "      <td>...</td>\n",
       "      <td>...</td>\n",
       "      <td>...</td>\n",
       "      <td>...</td>\n",
       "      <td>...</td>\n",
       "      <td>...</td>\n",
       "      <td>...</td>\n",
       "      <td>...</td>\n",
       "      <td>...</td>\n",
       "      <td>...</td>\n",
       "      <td>...</td>\n",
       "      <td>...</td>\n",
       "      <td>...</td>\n",
       "      <td>...</td>\n",
       "      <td>...</td>\n",
       "      <td>...</td>\n",
       "      <td>...</td>\n",
       "      <td>...</td>\n",
       "      <td>...</td>\n",
       "    </tr>\n",
       "    <tr>\n",
       "      <th>2272</th>\n",
       "      <td>TEST_2272</td>\n",
       "      <td>-0.000099</td>\n",
       "      <td>0.016589</td>\n",
       "      <td>0.000280</td>\n",
       "      <td>0.001853</td>\n",
       "      <td>0.618858</td>\n",
       "      <td>0.072265</td>\n",
       "      <td>0.161873</td>\n",
       "      <td>0.048846</td>\n",
       "      <td>0.000288</td>\n",
       "      <td>...</td>\n",
       "      <td>0.249873</td>\n",
       "      <td>3.253192</td>\n",
       "      <td>3.452406</td>\n",
       "      <td>2.798342</td>\n",
       "      <td>0.902863</td>\n",
       "      <td>3.205551</td>\n",
       "      <td>1.267059</td>\n",
       "      <td>3.011997</td>\n",
       "      <td>0.000019</td>\n",
       "      <td>0.000473</td>\n",
       "    </tr>\n",
       "    <tr>\n",
       "      <th>2273</th>\n",
       "      <td>TEST_2273</td>\n",
       "      <td>-0.000092</td>\n",
       "      <td>0.013077</td>\n",
       "      <td>0.000554</td>\n",
       "      <td>0.001202</td>\n",
       "      <td>0.613543</td>\n",
       "      <td>0.066129</td>\n",
       "      <td>0.143283</td>\n",
       "      <td>0.043573</td>\n",
       "      <td>0.000286</td>\n",
       "      <td>...</td>\n",
       "      <td>0.408829</td>\n",
       "      <td>3.487122</td>\n",
       "      <td>3.606279</td>\n",
       "      <td>3.007125</td>\n",
       "      <td>1.136255</td>\n",
       "      <td>3.450487</td>\n",
       "      <td>1.477257</td>\n",
       "      <td>3.186907</td>\n",
       "      <td>-0.000107</td>\n",
       "      <td>0.000389</td>\n",
       "    </tr>\n",
       "    <tr>\n",
       "      <th>2274</th>\n",
       "      <td>TEST_2274</td>\n",
       "      <td>-0.000167</td>\n",
       "      <td>0.018747</td>\n",
       "      <td>0.000422</td>\n",
       "      <td>0.002381</td>\n",
       "      <td>0.598075</td>\n",
       "      <td>0.059240</td>\n",
       "      <td>0.163373</td>\n",
       "      <td>0.063571</td>\n",
       "      <td>0.000130</td>\n",
       "      <td>...</td>\n",
       "      <td>0.176617</td>\n",
       "      <td>3.102651</td>\n",
       "      <td>3.292513</td>\n",
       "      <td>2.550854</td>\n",
       "      <td>0.685026</td>\n",
       "      <td>3.033775</td>\n",
       "      <td>1.067981</td>\n",
       "      <td>2.797505</td>\n",
       "      <td>-0.000096</td>\n",
       "      <td>0.000508</td>\n",
       "    </tr>\n",
       "    <tr>\n",
       "      <th>2275</th>\n",
       "      <td>TEST_2275</td>\n",
       "      <td>-0.000004</td>\n",
       "      <td>0.020972</td>\n",
       "      <td>-0.000827</td>\n",
       "      <td>0.005164</td>\n",
       "      <td>0.655012</td>\n",
       "      <td>0.069091</td>\n",
       "      <td>0.179805</td>\n",
       "      <td>0.063583</td>\n",
       "      <td>-0.000408</td>\n",
       "      <td>...</td>\n",
       "      <td>0.225716</td>\n",
       "      <td>3.196722</td>\n",
       "      <td>3.383302</td>\n",
       "      <td>2.687022</td>\n",
       "      <td>0.816230</td>\n",
       "      <td>3.090373</td>\n",
       "      <td>1.205319</td>\n",
       "      <td>2.893295</td>\n",
       "      <td>0.000214</td>\n",
       "      <td>-0.000717</td>\n",
       "    </tr>\n",
       "    <tr>\n",
       "      <th>2276</th>\n",
       "      <td>TEST_2276</td>\n",
       "      <td>-0.000249</td>\n",
       "      <td>0.022098</td>\n",
       "      <td>0.000387</td>\n",
       "      <td>0.001590</td>\n",
       "      <td>0.621519</td>\n",
       "      <td>0.067508</td>\n",
       "      <td>0.161039</td>\n",
       "      <td>0.063817</td>\n",
       "      <td>0.000252</td>\n",
       "      <td>...</td>\n",
       "      <td>0.322025</td>\n",
       "      <td>3.412631</td>\n",
       "      <td>3.641588</td>\n",
       "      <td>2.947392</td>\n",
       "      <td>0.998602</td>\n",
       "      <td>3.348499</td>\n",
       "      <td>1.368924</td>\n",
       "      <td>3.146833</td>\n",
       "      <td>-0.000163</td>\n",
       "      <td>0.000782</td>\n",
       "    </tr>\n",
       "  </tbody>\n",
       "</table>\n",
       "<p>2277 rows × 3468 columns</p>\n",
       "</div>"
      ],
      "text/plain": [
       "             ID  AL645608.7      HES4  TNFRSF18   TNFRSF4      SDF4     ACAP3  \\\n",
       "0     TEST_0000   -0.000328  0.033912  0.000413 -0.000858  0.155625  0.026579   \n",
       "1     TEST_0001   -0.000148  0.015827 -0.000187  0.003037  0.660968  0.069624   \n",
       "2     TEST_0002   -0.000049  0.017929 -0.000177  0.003634  0.637279  0.067224   \n",
       "3     TEST_0003   -0.000289  0.024179  0.000924  0.002239  0.556892  0.059299   \n",
       "4     TEST_0004   -0.000608  0.027104 -0.000253  0.002477  0.649496  0.077538   \n",
       "...         ...         ...       ...       ...       ...       ...       ...   \n",
       "2272  TEST_2272   -0.000099  0.016589  0.000280  0.001853  0.618858  0.072265   \n",
       "2273  TEST_2273   -0.000092  0.013077  0.000554  0.001202  0.613543  0.066129   \n",
       "2274  TEST_2274   -0.000167  0.018747  0.000422  0.002381  0.598075  0.059240   \n",
       "2275  TEST_2275   -0.000004  0.020972 -0.000827  0.005164  0.655012  0.069091   \n",
       "2276  TEST_2276   -0.000249  0.022098  0.000387  0.001590  0.621519  0.067508   \n",
       "\n",
       "        INTS11     MXRA8  AL391244.2  ...   MT-ATP8   MT-ATP6    MT-CO3  \\\n",
       "0     0.091520  0.038175    0.001255  ...  0.130246  3.652415  4.063092   \n",
       "1     0.181265  0.062043   -0.000183  ...  0.229034  3.200570  3.393326   \n",
       "2     0.168017  0.060014   -0.000046  ...  0.242973  3.219442  3.390536   \n",
       "3     0.156795  0.065863    0.000461  ...  0.131123  3.050404  3.263935   \n",
       "4     0.180734  0.066633   -0.000031  ...  0.319531  3.616661  4.009782   \n",
       "...        ...       ...         ...  ...       ...       ...       ...   \n",
       "2272  0.161873  0.048846    0.000288  ...  0.249873  3.253192  3.452406   \n",
       "2273  0.143283  0.043573    0.000286  ...  0.408829  3.487122  3.606279   \n",
       "2274  0.163373  0.063571    0.000130  ...  0.176617  3.102651  3.292513   \n",
       "2275  0.179805  0.063583   -0.000408  ...  0.225716  3.196722  3.383302   \n",
       "2276  0.161039  0.063817    0.000252  ...  0.322025  3.412631  3.641588   \n",
       "\n",
       "        MT-ND3   MT-ND4L    MT-ND4    MT-ND5    MT-CYB  BX004987.1  AL592183.1  \n",
       "0     3.036614  0.712508  3.625293  1.190471  3.521472   -0.000270    0.000689  \n",
       "1     2.687198  0.880518  3.128765  1.241677  2.905874    0.000151   -0.000033  \n",
       "2     2.712713  0.861027  3.144180  1.225822  2.919336    0.000111    0.000316  \n",
       "3     2.499124  0.557684  2.961166  0.941910  2.749718   -0.000274    0.000730  \n",
       "4     3.272632  1.168183  3.524832  1.587888  3.427722   -0.000052    0.001007  \n",
       "...        ...       ...       ...       ...       ...         ...         ...  \n",
       "2272  2.798342  0.902863  3.205551  1.267059  3.011997    0.000019    0.000473  \n",
       "2273  3.007125  1.136255  3.450487  1.477257  3.186907   -0.000107    0.000389  \n",
       "2274  2.550854  0.685026  3.033775  1.067981  2.797505   -0.000096    0.000508  \n",
       "2275  2.687022  0.816230  3.090373  1.205319  2.893295    0.000214   -0.000717  \n",
       "2276  2.947392  0.998602  3.348499  1.368924  3.146833   -0.000163    0.000782  \n",
       "\n",
       "[2277 rows x 3468 columns]"
      ]
     },
     "execution_count": 15,
     "metadata": {},
     "output_type": "execute_result"
    }
   ],
   "source": [
    "net.load_state_dict(torch.load(f\"{root}/Models/net.pt\"))\n",
    "submission(net, testloader, DEVICE, submissionframe.columns[1:])"
   ]
  }
 ],
 "metadata": {
  "accelerator": "GPU",
  "colab": {
   "authorship_tag": "ABX9TyMlESUWOCwVHipp2oUI6tOw",
   "gpuType": "T4",
   "machine_shape": "hm",
   "provenance": []
  },
  "kernelspec": {
   "display_name": "base",
   "language": "python",
   "name": "python3"
  },
  "language_info": {
   "codemirror_mode": {
    "name": "ipython",
    "version": 3
   },
   "file_extension": ".py",
   "mimetype": "text/x-python",
   "name": "python",
   "nbconvert_exporter": "python",
   "pygments_lexer": "ipython3",
   "version": "3.9.21"
  }
 },
 "nbformat": 4,
 "nbformat_minor": 0
}
