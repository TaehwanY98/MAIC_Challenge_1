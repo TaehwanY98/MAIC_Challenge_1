{
 "cells": [
  {
   "cell_type": "markdown",
   "metadata": {
    "id": "5m5LV1nWnYgJ"
   },
   "source": [
    "## 프레임워크 및 모듈 설치"
   ]
  },
  {
   "cell_type": "code",
   "execution_count": 2,
   "metadata": {
    "colab": {
     "base_uri": "https://localhost:8080/"
    },
    "executionInfo": {
     "elapsed": 7182,
     "status": "ok",
     "timestamp": 1738595357587,
     "user": {
      "displayName": "Taehwan Yoon",
      "userId": "10519536935456124705"
     },
     "user_tz": -540
    },
    "id": "k54t-QxsovBa",
    "outputId": "12d9e844-b385-49c0-f7ff-7f5918473a04"
   },
   "outputs": [],
   "source": [
    "# ! pip install simpleITK\n",
    "# ! pip install tqdm\n",
    "# ! pip install torch torchvision pandas torchmetrics"
   ]
  },
  {
   "cell_type": "markdown",
   "metadata": {
    "id": "RaJnCjdLnsop"
   },
   "source": [
    "## 모듈참조"
   ]
  },
  {
   "cell_type": "code",
   "execution_count": 3,
   "metadata": {
    "executionInfo": {
     "elapsed": 9227,
     "status": "ok",
     "timestamp": 1738595374558,
     "user": {
      "displayName": "Taehwan Yoon",
      "userId": "10519536935456124705"
     },
     "user_tz": -540
    },
    "id": "TlBog7n0nW2C"
   },
   "outputs": [],
   "source": [
    "import torch\n",
    "from torch import nn\n",
    "import torchvision\n",
    "from torch.utils.data import DataLoader, random_split\n",
    "from torchvision.models import resnet50, resnext50_32x4d, mobilenet_v3_small\n",
    "from torchmetrics.regression import MeanSquaredError, MeanAbsoluteError\n",
    "import SimpleITK as sitk\n",
    "import pandas as pd\n",
    "from tqdm import tqdm\n",
    "import os\n",
    "import numpy as np\n",
    "import torch.nn.utils.prune as prune"
   ]
  },
  {
   "cell_type": "markdown",
   "metadata": {},
   "source": [
    "#### 사용가능한 리소스 확인"
   ]
  },
  {
   "cell_type": "code",
   "execution_count": 4,
   "metadata": {
    "colab": {
     "base_uri": "https://localhost:8080/"
    },
    "executionInfo": {
     "elapsed": 450,
     "status": "ok",
     "timestamp": 1738595379407,
     "user": {
      "displayName": "Taehwan Yoon",
      "userId": "10519536935456124705"
     },
     "user_tz": -540
    },
    "id": "P6z5TmT070oh",
    "outputId": "416902e4-c35c-489e-c9a7-83600aa8f3ab"
   },
   "outputs": [
    {
     "data": {
      "text/plain": [
       "device(type='cuda')"
      ]
     },
     "execution_count": 4,
     "metadata": {},
     "output_type": "execute_result"
    }
   ],
   "source": [
    "DEVICE = torch.device(\"cuda\" if torch.cuda.is_available() else \"cpu\")\n",
    "DEVICE"
   ]
  },
  {
   "cell_type": "markdown",
   "metadata": {},
   "source": [
    "#### 파라미터 세팅\n",
    "학습성능 효율성 및 딥러닝의 불확식성을 위한 시드값 정의 x"
   ]
  },
  {
   "cell_type": "code",
   "execution_count": 5,
   "metadata": {},
   "outputs": [],
   "source": [
    "batch_size = 64\n",
    "root = \"./\""
   ]
  },
  {
   "cell_type": "markdown",
   "metadata": {},
   "source": [
    "## 데이터 로드 및 분석"
   ]
  },
  {
   "cell_type": "code",
   "execution_count": 6,
   "metadata": {
    "executionInfo": {
     "elapsed": 13498,
     "status": "ok",
     "timestamp": 1738595395572,
     "user": {
      "displayName": "Taehwan Yoon",
      "userId": "10519536935456124705"
     },
     "user_tz": -540
    },
    "id": "sO454yiDwwva"
   },
   "outputs": [
    {
     "name": "stdout",
     "output_type": "stream",
     "text": [
      "3469\n",
      "3468\n",
      "True\n"
     ]
    }
   ],
   "source": [
    "trainframe = pd.read_csv(f'{root}train.csv')\n",
    "testframe = pd.read_csv(f'{root}test.csv')\n",
    "submissionframe = pd.read_csv(f'{root}sample_submission.csv')\n",
    "print(len(trainframe.columns))\n",
    "print(len(submissionframe.columns))\n",
    "print((trainframe.columns[2:]==submissionframe.columns[1:]).all()) # 제출파일에 이상이 있는지 체크\n",
    "classnum = len(trainframe.loc[0].keys())-2 #클래스 개수"
   ]
  },
  {
   "cell_type": "markdown",
   "metadata": {},
   "source": [
    "## 평가 메트릭 구현"
   ]
  },
  {
   "cell_type": "code",
   "execution_count": null,
   "metadata": {
    "colab": {
     "base_uri": "https://localhost:8080/",
     "height": 424
    },
    "executionInfo": {
     "elapsed": 444,
     "status": "ok",
     "timestamp": 1738595403599,
     "user": {
      "displayName": "Taehwan Yoon",
      "userId": "10519536935456124705"
     },
     "user_tz": -540
    },
    "id": "RdomboD7cNEX",
    "outputId": "56e13fe5-e560-4656-8832-dae1b993ace0"
   },
   "outputs": [],
   "source": [
    "class MeanCellCorrelation(torch.nn.Module):\n",
    "    def __init__(self, *args, **kwargs):\n",
    "        super().__init__(*args, **kwargs)\n",
    "    def forward(self, pred, target):\n",
    "        batch_size=pred.size()[0]\n",
    "        targetvar= target-target.mean()\n",
    "        predvar = pred-pred.mean()\n",
    "        return (((targetvar*predvar)/ ((targetvar*targetvar).sqrt()* (predvar*predvar).sqrt()+1e-7)).mean(dim=1)).mean()\n",
    "\n",
    "class MeanGenesCorrelation(torch.nn.Module):\n",
    "    def __init__(self, *args, **kwargs):\n",
    "        super().__init__(*args, **kwargs)\n",
    "    def forward(self, pred, target):\n",
    "        batch_size=pred.size()[0]\n",
    "        targetvar= target-target.mean()\n",
    "        predvar = pred-pred.mean()\n",
    "\n",
    "        return (((targetvar*predvar)/ ((targetvar*targetvar).sqrt()* (predvar*predvar).sqrt()+1e-7)).mean(dim=1)).max()\n",
    "    \n",
    "class CustomLoss(torch.nn.Module):\n",
    "    def __init__(self, *args, **kwargs):\n",
    "        super().__init__(*args, **kwargs)\n",
    "        self.metricf = nn.SmoothL1Loss(beta=2)\n",
    "        self.metricf2 = nn.HuberLoss(delta=0.5)\n",
    "    def forward(self, pred, target):\n",
    "        metric = self.metricf(pred, target)\n",
    "        metric = self.metricf2(pred, target)\n",
    "        return metric "
   ]
  },
  {
   "cell_type": "markdown",
   "metadata": {},
   "source": [
    "## 유틸 클래스 및 함수정의\n",
    "#### 딥러닝 데이터셋"
   ]
  },
  {
   "cell_type": "code",
   "execution_count": 8,
   "metadata": {
    "executionInfo": {
     "elapsed": 436,
     "status": "ok",
     "timestamp": 1738595492657,
     "user": {
      "displayName": "Taehwan Yoon",
      "userId": "10519536935456124705"
     },
     "user_tz": -540
    },
    "id": "FKpsucIO1Qyp"
   },
   "outputs": [],
   "source": [
    "class Dataset(object):\n",
    "  def __init__(self, frame, datadir, trainmode=True) -> None:\n",
    "    super().__init__()\n",
    "    self.frame = frame\n",
    "    self.datadir = datadir\n",
    "    self.trainmode = trainmode\n",
    "  def __getitem__(self, index):\n",
    "    row = self.frame.loc[index]\n",
    "    path = os.path.join(self.datadir, row['ID']+\".png\")\n",
    "    img = sitk.ReadImage(path)\n",
    "    img = sitk.GetArrayFromImage(img)\n",
    "    label = row.iloc[2:].apply(lambda x: float(x))\n",
    "    ret = {\n",
    "      \"img\": torchvision.transforms.ToTensor()(img).type(torch.float32),\n",
    "      \"label\": torch.Tensor(label)\n",
    "    }\n",
    "    return ret\n",
    "\n",
    "  def __len__(self):\n",
    "    return len(self.frame)"
   ]
  },
  {
   "cell_type": "markdown",
   "metadata": {},
   "source": [
    "#### 데이터 분할 및 로더"
   ]
  },
  {
   "cell_type": "code",
   "execution_count": 9,
   "metadata": {
    "executionInfo": {
     "elapsed": 413,
     "status": "ok",
     "timestamp": 1738595498189,
     "user": {
      "displayName": "Taehwan Yoon",
      "userId": "10519536935456124705"
     },
     "user_tz": -540
    },
    "id": "zNfJj0Cm4cLy"
   },
   "outputs": [],
   "source": [
    "dataset = Dataset(trainframe, f\"{root}train\")\n",
    "trainset, validset = random_split(dataset, [0.9, 0.1])\n",
    "trainloader = DataLoader(trainset, batch_size=batch_size, shuffle=True, collate_fn=lambda x: x)\n",
    "validloader = DataLoader(validset, batch_size=batch_size, shuffle=False, collate_fn=lambda x: x)\n",
    "testloader = DataLoader(Dataset(testframe, f\"{root}test\", False), batch_size=batch_size, shuffle=False, collate_fn=lambda x: x)"
   ]
  },
  {
   "cell_type": "markdown",
   "metadata": {},
   "source": [
    "## 모델 정의\n",
    "#### 어텐션 모델 적용 및 응용"
   ]
  },
  {
   "cell_type": "code",
   "execution_count": 10,
   "metadata": {},
   "outputs": [],
   "source": [
    "class CustomResNet(torch.nn.Module):\n",
    "  def __init__(self, outchannel) -> None:\n",
    "    super().__init__()\n",
    "    self.net = resnet50()\n",
    "    self.attention = CBAM(outchannel)\n",
    "    self.net.fc = torch.nn.Sequential(\n",
    "        torch.nn.Linear(in_features=2048, out_features=outchannel, bias=False))\n",
    "  def forward(self, x):\n",
    "    x = self.net(x)\n",
    "    x = self.attention(x.unsqueeze(-1).unsqueeze(-1))\n",
    "    return x\n",
    "\n",
    "class CustomResNext(torch.nn.Module):\n",
    "  def __init__(self, outchannel) -> None:\n",
    "    super().__init__()\n",
    "    self.net = resnext50_32x4d()\n",
    "    self.attention = CBAM(outchannel)\n",
    "    self.net.fc = torch.nn.Sequential(\n",
    "        torch.nn.Linear(in_features=2048, out_features=outchannel, bias=False))\n",
    "  def forward(self, x):\n",
    "    x = self.net(x)\n",
    "    x = self.attention(x.unsqueeze(-1).unsqueeze(-1))\n",
    "    return x\n",
    "class CustomMobileNet(torch.nn.Module):\n",
    "  def __init__(self, outchannel) -> None:\n",
    "    super().__init__()\n",
    "    self.net = mobilenet_v3_small()\n",
    "    self.attention = CBAM(outchannel)\n",
    "    self.net.classifier = torch.nn.Sequential(\n",
    "       nn.Linear(in_features=576, out_features=1024, bias=True),\n",
    "       nn.Hardswish(),\n",
    "      #  nn.Dropout(p=0.2, inplace=True)\n",
    "       nn.Linear(in_features=1024, out_features=outchannel, bias=True))\n",
    "  def forward(self, x):\n",
    "    x = self.net(x)\n",
    "    x = self.attention(x.unsqueeze(-1).unsqueeze(-1))\n",
    "    return x\n",
    "class CBAM(nn.Module):\n",
    "    def __init__(self, channel, reduction=16):\n",
    "        super(CBAM, self).__init__()\n",
    "        self.avg_pool = nn.AdaptiveAvgPool2d(1)\n",
    "        self.max_pool = nn.AdaptiveMaxPool2d(1)\n",
    "        # Channel Attention\n",
    "        self.channel_fc = nn.Sequential(\n",
    "            nn.Linear(channel, channel // reduction),\n",
    "            nn.ReLU(inplace=True),\n",
    "            nn.Linear(channel // reduction, channel)\n",
    "        )\n",
    "        \n",
    "        # Spatial Attention\n",
    "        self.spatial_conv = nn.Conv2d(2, 1, kernel_size=7, padding=3, bias=False)\n",
    "        \n",
    "    def forward(self, x):\n",
    "        b, c, w, h = x.size()\n",
    "        \n",
    "        # Channel Attention\n",
    "        avg_out = self.channel_fc(self.avg_pool(x).view(b, c))\n",
    "        max_out = self.channel_fc(self.max_pool(x).view(b, c))\n",
    "        channel_att = torch.sigmoid(avg_out + max_out).view(b, c, 1, 1)\n",
    "        \n",
    "        x = x * channel_att\n",
    "        \n",
    "        # Spatial Attention\n",
    "        avg_out = torch.mean(x, dim=1, keepdim=True)\n",
    "        max_out, _ = torch.max(x, dim=1, keepdim=True)\n",
    "        spatial_att = torch.sigmoid(self.spatial_conv(torch.cat([avg_out, max_out], dim=1)))\n",
    "        \n",
    "        return (x * spatial_att).squeeze()"
   ]
  },
  {
   "cell_type": "markdown",
   "metadata": {},
   "source": [
    "#### 학습 및 평가 함수 정의"
   ]
  },
  {
   "cell_type": "code",
   "execution_count": 11,
   "metadata": {
    "executionInfo": {
     "elapsed": 2,
     "status": "ok",
     "timestamp": 1738595503327,
     "user": {
      "displayName": "Taehwan Yoon",
      "userId": "10519536935456124705"
     },
     "user_tz": -540
    },
    "id": "AWSXTmEI6ChI"
   },
   "outputs": [],
   "source": [
    "def valid(net, validloader, device):\n",
    "    maef = MeanAbsoluteError().to(device)\n",
    "    msef = MeanSquaredError().to(device)\n",
    "    mccf = MeanCellCorrelation().to(device)\n",
    "    mgcf = MeanGenesCorrelation().to(device)\n",
    "    net.eval()\n",
    "    mae = 0\n",
    "    mse = 0\n",
    "    mcc = 0\n",
    "    mgc = 0\n",
    "    length = len(validloader)\n",
    "    with torch.no_grad():\n",
    "        for batch in tqdm(validloader):\n",
    "          \n",
    "          img= [b[\"img\"] for b in batch]\n",
    "          label = [b[\"label\"] for b in batch]\n",
    "          img = torch.stack(img).to(device)\n",
    "          label = torch.stack(label).to(device)\n",
    "          out = net(img)\n",
    "          mae += maef(out, label).item()\n",
    "          mse += msef(out, label).item()\n",
    "          mcc += mccf(out, label).item()\n",
    "          mgc += mgcf(out, label).item()\n",
    "\n",
    "    return {\"mse\": mse/length, \"mae\": mae/length, \"mcc\": mcc/length, \"mgc\": mgc/length}\n",
    "\n",
    "def train(net, loader, validloader, epoch, optimizer, loss_fn, device, save_dir ):\n",
    "  length = len(loader)\n",
    "  history = {\"mcc\":[], \"mgc\":[], \"loss\":[],\"mse\":[]}\n",
    "  for e in range(epoch):\n",
    "      losses=0\n",
    "      for batch in tqdm(loader):\n",
    "          net.train()\n",
    "          img= [b[\"img\"] for b in batch]\n",
    "          label = [b[\"label\"].to(device) for b in batch]\n",
    "          img = torch.stack(img).to(device)\n",
    "          label = torch.stack(label).to(device)\n",
    "          output = net(img)\n",
    "          loss = loss_fn(output, label)\n",
    "          loss.backward()\n",
    "          optimizer.step()\n",
    "          optimizer.zero_grad()\n",
    "          losses+=loss.item()\n",
    "  \n",
    "      hist = valid(net, validloader, device)\n",
    "      mae = hist[\"mae\"]\n",
    "      mse = hist[\"mse\"]\n",
    "      mcc = hist[\"mcc\"]\n",
    "      mgc = hist[\"mgc\"]\n",
    "      print(f'epoch: {e+1}, loss: {losses/length} mse: {mse} mae: {mae} mcc: {mcc} mgc: {mgc}')\n",
    "      if e == 0:\n",
    "        torch.save(net.state_dict(), os.path.join(save_dir, \"net.pt\"))\n",
    "        print(\"model is updated\")\n",
    "      else:\n",
    "        eval = np.array(history[\"mse\"])\n",
    "        if eval.min() >= mse:\n",
    "           torch.save(net.state_dict(), os.path.join(save_dir, \"net.pt\"))\n",
    "           print(\"model is updated\")\n",
    "      history[\"mcc\"].append(mcc); history[\"mgc\"].append(mgc); history[\"loss\"].append(losses/length); history[\"mse\"].append(mse)\n",
    "  return history"
   ]
  },
  {
   "cell_type": "markdown",
   "metadata": {},
   "source": [
    "#### 실제학습을위한 모델 준비"
   ]
  },
  {
   "cell_type": "code",
   "execution_count": 12,
   "metadata": {
    "executionInfo": {
     "elapsed": 1242,
     "status": "ok",
     "timestamp": 1738595567347,
     "user": {
      "displayName": "Taehwan Yoon",
      "userId": "10519536935456124705"
     },
     "user_tz": -540
    },
    "id": "zKKGRV0q699x"
   },
   "outputs": [
    {
     "name": "stdout",
     "output_type": "stream",
     "text": [
      "model is ready\n"
     ]
    }
   ],
   "source": [
    "net = CustomResNet(classnum)\n",
    "optimizer = torch.optim.Adam(net.parameters(), lr=1e-4)\n",
    "loss_fn = CustomLoss().to(DEVICE)\n",
    "net.float()\n",
    "net.to(DEVICE)\n",
    "print(\"model is ready\")"
   ]
  },
  {
   "cell_type": "markdown",
   "metadata": {},
   "source": [
    "## 학습"
   ]
  },
  {
   "cell_type": "code",
   "execution_count": 13,
   "metadata": {
    "colab": {
     "base_uri": "https://localhost:8080/"
    },
    "id": "-P8SDZ4h_kep",
    "outputId": "0f4d3e76-bd9c-4045-ee82-baa037d43b65"
   },
   "outputs": [
    {
     "name": "stderr",
     "output_type": "stream",
     "text": [
      "  0%|          | 0/99 [00:00<?, ?it/s]/tmp/ipykernel_528098/1969552246.py:15: FutureWarning: Series.__getitem__ treating keys as positions is deprecated. In a future version, integer keys will always be treated as labels (consistent with DataFrame behavior). To access a value by position, use `ser.iloc[pos]`\n",
      "  \"label\": torch.Tensor(label)\n",
      "  7%|▋         | 7/99 [00:04<01:00,  1.53it/s]\n"
     ]
    },
    {
     "ename": "KeyboardInterrupt",
     "evalue": "",
     "output_type": "error",
     "traceback": [
      "\u001b[0;31m---------------------------------------------------------------------------\u001b[0m",
      "\u001b[0;31mKeyboardInterrupt\u001b[0m                         Traceback (most recent call last)",
      "\u001b[0;32m/tmp/ipykernel_528098/1401314308.py\u001b[0m in \u001b[0;36m?\u001b[0;34m()\u001b[0m\n\u001b[0;32m----> 1\u001b[0;31m \u001b[0mtrain\u001b[0m\u001b[0;34m(\u001b[0m\u001b[0mnet\u001b[0m\u001b[0;34m,\u001b[0m \u001b[0mtrainloader\u001b[0m\u001b[0;34m,\u001b[0m \u001b[0mvalidloader\u001b[0m\u001b[0;34m,\u001b[0m \u001b[0;36m30\u001b[0m\u001b[0;34m,\u001b[0m \u001b[0moptimizer\u001b[0m\u001b[0;34m,\u001b[0m \u001b[0mloss_fn\u001b[0m\u001b[0;34m,\u001b[0m \u001b[0mDEVICE\u001b[0m\u001b[0;34m,\u001b[0m \u001b[0;34mf\"{root}Models\"\u001b[0m\u001b[0;34m)\u001b[0m\u001b[0;34m\u001b[0m\u001b[0;34m\u001b[0m\u001b[0m\n\u001b[0m",
      "\u001b[0;32m/tmp/ipykernel_528098/2581268209.py\u001b[0m in \u001b[0;36m?\u001b[0;34m(net, loader, validloader, epoch, optimizer, loss_fn, device, save_dir)\u001b[0m\n\u001b[1;32m     28\u001b[0m   \u001b[0mlength\u001b[0m \u001b[0;34m=\u001b[0m \u001b[0mlen\u001b[0m\u001b[0;34m(\u001b[0m\u001b[0mloader\u001b[0m\u001b[0;34m)\u001b[0m\u001b[0;34m\u001b[0m\u001b[0;34m\u001b[0m\u001b[0m\n\u001b[1;32m     29\u001b[0m   \u001b[0mhistory\u001b[0m \u001b[0;34m=\u001b[0m \u001b[0;34m{\u001b[0m\u001b[0;34m\"mcc\"\u001b[0m\u001b[0;34m:\u001b[0m\u001b[0;34m[\u001b[0m\u001b[0;34m]\u001b[0m\u001b[0;34m,\u001b[0m \u001b[0;34m\"mgc\"\u001b[0m\u001b[0;34m:\u001b[0m\u001b[0;34m[\u001b[0m\u001b[0;34m]\u001b[0m\u001b[0;34m,\u001b[0m \u001b[0;34m\"loss\"\u001b[0m\u001b[0;34m:\u001b[0m\u001b[0;34m[\u001b[0m\u001b[0;34m]\u001b[0m\u001b[0;34m,\u001b[0m\u001b[0;34m\"mse\"\u001b[0m\u001b[0;34m:\u001b[0m\u001b[0;34m[\u001b[0m\u001b[0;34m]\u001b[0m\u001b[0;34m}\u001b[0m\u001b[0;34m\u001b[0m\u001b[0;34m\u001b[0m\u001b[0m\n\u001b[1;32m     30\u001b[0m   \u001b[0;32mfor\u001b[0m \u001b[0me\u001b[0m \u001b[0;32min\u001b[0m \u001b[0mrange\u001b[0m\u001b[0;34m(\u001b[0m\u001b[0mepoch\u001b[0m\u001b[0;34m)\u001b[0m\u001b[0;34m:\u001b[0m\u001b[0;34m\u001b[0m\u001b[0;34m\u001b[0m\u001b[0m\n\u001b[1;32m     31\u001b[0m       \u001b[0mlosses\u001b[0m\u001b[0;34m=\u001b[0m\u001b[0;36m0\u001b[0m\u001b[0;34m\u001b[0m\u001b[0;34m\u001b[0m\u001b[0m\n\u001b[0;32m---> 32\u001b[0;31m       \u001b[0;32mfor\u001b[0m \u001b[0mbatch\u001b[0m \u001b[0;32min\u001b[0m \u001b[0mtqdm\u001b[0m\u001b[0;34m(\u001b[0m\u001b[0mloader\u001b[0m\u001b[0;34m)\u001b[0m\u001b[0;34m:\u001b[0m\u001b[0;34m\u001b[0m\u001b[0;34m\u001b[0m\u001b[0m\n\u001b[0m\u001b[1;32m     33\u001b[0m           \u001b[0mnet\u001b[0m\u001b[0;34m.\u001b[0m\u001b[0mtrain\u001b[0m\u001b[0;34m(\u001b[0m\u001b[0;34m)\u001b[0m\u001b[0;34m\u001b[0m\u001b[0;34m\u001b[0m\u001b[0m\n\u001b[1;32m     34\u001b[0m           \u001b[0mimg\u001b[0m\u001b[0;34m=\u001b[0m \u001b[0;34m[\u001b[0m\u001b[0mb\u001b[0m\u001b[0;34m[\u001b[0m\u001b[0;34m\"img\"\u001b[0m\u001b[0;34m]\u001b[0m \u001b[0;32mfor\u001b[0m \u001b[0mb\u001b[0m \u001b[0;32min\u001b[0m \u001b[0mbatch\u001b[0m\u001b[0;34m]\u001b[0m\u001b[0;34m\u001b[0m\u001b[0;34m\u001b[0m\u001b[0m\n\u001b[1;32m     35\u001b[0m           \u001b[0mlabel\u001b[0m \u001b[0;34m=\u001b[0m \u001b[0;34m[\u001b[0m\u001b[0mb\u001b[0m\u001b[0;34m[\u001b[0m\u001b[0;34m\"label\"\u001b[0m\u001b[0;34m]\u001b[0m\u001b[0;34m.\u001b[0m\u001b[0mto\u001b[0m\u001b[0;34m(\u001b[0m\u001b[0mdevice\u001b[0m\u001b[0;34m)\u001b[0m \u001b[0;32mfor\u001b[0m \u001b[0mb\u001b[0m \u001b[0;32min\u001b[0m \u001b[0mbatch\u001b[0m\u001b[0;34m]\u001b[0m\u001b[0;34m\u001b[0m\u001b[0;34m\u001b[0m\u001b[0m\n",
      "\u001b[0;32m~/micromamba/lib/python3.9/site-packages/tqdm/std.py\u001b[0m in \u001b[0;36m?\u001b[0;34m(self)\u001b[0m\n\u001b[1;32m   1192\u001b[0m                         \u001b[0mlast_print_n\u001b[0m \u001b[0;34m=\u001b[0m \u001b[0mself\u001b[0m\u001b[0;34m.\u001b[0m\u001b[0mlast_print_n\u001b[0m\u001b[0;34m\u001b[0m\u001b[0;34m\u001b[0m\u001b[0m\n\u001b[1;32m   1193\u001b[0m                         \u001b[0mlast_print_t\u001b[0m \u001b[0;34m=\u001b[0m \u001b[0mself\u001b[0m\u001b[0;34m.\u001b[0m\u001b[0mlast_print_t\u001b[0m\u001b[0;34m\u001b[0m\u001b[0;34m\u001b[0m\u001b[0m\n\u001b[1;32m   1194\u001b[0m         \u001b[0;32mfinally\u001b[0m\u001b[0;34m:\u001b[0m\u001b[0;34m\u001b[0m\u001b[0;34m\u001b[0m\u001b[0m\n\u001b[1;32m   1195\u001b[0m             \u001b[0mself\u001b[0m\u001b[0;34m.\u001b[0m\u001b[0mn\u001b[0m \u001b[0;34m=\u001b[0m \u001b[0mn\u001b[0m\u001b[0;34m\u001b[0m\u001b[0;34m\u001b[0m\u001b[0m\n\u001b[0;32m-> 1196\u001b[0;31m             \u001b[0mself\u001b[0m\u001b[0;34m.\u001b[0m\u001b[0mclose\u001b[0m\u001b[0;34m(\u001b[0m\u001b[0;34m)\u001b[0m\u001b[0;34m\u001b[0m\u001b[0;34m\u001b[0m\u001b[0m\n\u001b[0m",
      "\u001b[0;32m~/micromamba/lib/python3.9/site-packages/torch/utils/data/dataloader.py\u001b[0m in \u001b[0;36m?\u001b[0;34m(self)\u001b[0m\n\u001b[1;32m    722\u001b[0m                         \u001b[0;34m\"IterableDataset replica at each worker. Please see \"\u001b[0m\u001b[0;34m\u001b[0m\u001b[0;34m\u001b[0m\u001b[0m\n\u001b[1;32m    723\u001b[0m                         \u001b[0;34m\"https://pytorch.org/docs/stable/data.html#torch.utils.data.IterableDataset for examples.\"\u001b[0m\u001b[0;34m\u001b[0m\u001b[0;34m\u001b[0m\u001b[0m\n\u001b[1;32m    724\u001b[0m                     )\n\u001b[1;32m    725\u001b[0m                 \u001b[0mwarnings\u001b[0m\u001b[0;34m.\u001b[0m\u001b[0mwarn\u001b[0m\u001b[0;34m(\u001b[0m\u001b[0mwarn_msg\u001b[0m\u001b[0;34m)\u001b[0m\u001b[0;34m\u001b[0m\u001b[0;34m\u001b[0m\u001b[0m\n\u001b[0;32m--> 726\u001b[0;31m             \u001b[0;32mreturn\u001b[0m \u001b[0mdata\u001b[0m\u001b[0;34m\u001b[0m\u001b[0;34m\u001b[0m\u001b[0m\n\u001b[0m",
      "\u001b[0;32m~/micromamba/lib/python3.9/site-packages/torch/utils/data/dataloader.py\u001b[0m in \u001b[0;36m?\u001b[0;34m(self)\u001b[0m\n\u001b[1;32m    762\u001b[0m     \u001b[0;32mdef\u001b[0m \u001b[0m_next_data\u001b[0m\u001b[0;34m(\u001b[0m\u001b[0mself\u001b[0m\u001b[0;34m)\u001b[0m\u001b[0;34m:\u001b[0m\u001b[0;34m\u001b[0m\u001b[0;34m\u001b[0m\u001b[0m\n\u001b[1;32m    763\u001b[0m         \u001b[0mindex\u001b[0m \u001b[0;34m=\u001b[0m \u001b[0mself\u001b[0m\u001b[0;34m.\u001b[0m\u001b[0m_next_index\u001b[0m\u001b[0;34m(\u001b[0m\u001b[0;34m)\u001b[0m  \u001b[0;31m# may raise StopIteration\u001b[0m\u001b[0;34m\u001b[0m\u001b[0;34m\u001b[0m\u001b[0m\n\u001b[0;32m--> 764\u001b[0;31m         \u001b[0mdata\u001b[0m \u001b[0;34m=\u001b[0m \u001b[0mself\u001b[0m\u001b[0;34m.\u001b[0m\u001b[0m_dataset_fetcher\u001b[0m\u001b[0;34m.\u001b[0m\u001b[0mfetch\u001b[0m\u001b[0;34m(\u001b[0m\u001b[0mindex\u001b[0m\u001b[0;34m)\u001b[0m  \u001b[0;31m# may raise StopIteration\u001b[0m\u001b[0;34m\u001b[0m\u001b[0;34m\u001b[0m\u001b[0m\n\u001b[0m\u001b[1;32m    765\u001b[0m         \u001b[0;32mif\u001b[0m \u001b[0mself\u001b[0m\u001b[0;34m.\u001b[0m\u001b[0m_pin_memory\u001b[0m\u001b[0;34m:\u001b[0m\u001b[0;34m\u001b[0m\u001b[0;34m\u001b[0m\u001b[0m\n\u001b[1;32m    766\u001b[0m             \u001b[0mdata\u001b[0m \u001b[0;34m=\u001b[0m \u001b[0m_utils\u001b[0m\u001b[0;34m.\u001b[0m\u001b[0mpin_memory\u001b[0m\u001b[0;34m.\u001b[0m\u001b[0mpin_memory\u001b[0m\u001b[0;34m(\u001b[0m\u001b[0mdata\u001b[0m\u001b[0;34m,\u001b[0m \u001b[0mself\u001b[0m\u001b[0;34m.\u001b[0m\u001b[0m_pin_memory_device\u001b[0m\u001b[0;34m)\u001b[0m\u001b[0;34m\u001b[0m\u001b[0;34m\u001b[0m\u001b[0m\n\u001b[1;32m    767\u001b[0m         \u001b[0;32mreturn\u001b[0m \u001b[0mdata\u001b[0m\u001b[0;34m\u001b[0m\u001b[0;34m\u001b[0m\u001b[0m\n",
      "\u001b[0;32m~/micromamba/lib/python3.9/site-packages/torch/utils/data/_utils/fetch.py\u001b[0m in \u001b[0;36m?\u001b[0;34m(self, possibly_batched_index)\u001b[0m\n\u001b[1;32m     47\u001b[0m     \u001b[0;32mdef\u001b[0m \u001b[0mfetch\u001b[0m\u001b[0;34m(\u001b[0m\u001b[0mself\u001b[0m\u001b[0;34m,\u001b[0m \u001b[0mpossibly_batched_index\u001b[0m\u001b[0;34m)\u001b[0m\u001b[0;34m:\u001b[0m\u001b[0;34m\u001b[0m\u001b[0;34m\u001b[0m\u001b[0m\n\u001b[1;32m     48\u001b[0m         \u001b[0;32mif\u001b[0m \u001b[0mself\u001b[0m\u001b[0;34m.\u001b[0m\u001b[0mauto_collation\u001b[0m\u001b[0;34m:\u001b[0m\u001b[0;34m\u001b[0m\u001b[0;34m\u001b[0m\u001b[0m\n\u001b[1;32m     49\u001b[0m             \u001b[0;32mif\u001b[0m \u001b[0mhasattr\u001b[0m\u001b[0;34m(\u001b[0m\u001b[0mself\u001b[0m\u001b[0;34m.\u001b[0m\u001b[0mdataset\u001b[0m\u001b[0;34m,\u001b[0m \u001b[0;34m\"__getitems__\"\u001b[0m\u001b[0;34m)\u001b[0m \u001b[0;32mand\u001b[0m \u001b[0mself\u001b[0m\u001b[0;34m.\u001b[0m\u001b[0mdataset\u001b[0m\u001b[0;34m.\u001b[0m\u001b[0m__getitems__\u001b[0m\u001b[0;34m:\u001b[0m\u001b[0;34m\u001b[0m\u001b[0;34m\u001b[0m\u001b[0m\n\u001b[0;32m---> 50\u001b[0;31m                 \u001b[0mdata\u001b[0m \u001b[0;34m=\u001b[0m \u001b[0mself\u001b[0m\u001b[0;34m.\u001b[0m\u001b[0mdataset\u001b[0m\u001b[0;34m.\u001b[0m\u001b[0m__getitems__\u001b[0m\u001b[0;34m(\u001b[0m\u001b[0mpossibly_batched_index\u001b[0m\u001b[0;34m)\u001b[0m\u001b[0;34m\u001b[0m\u001b[0;34m\u001b[0m\u001b[0m\n\u001b[0m\u001b[1;32m     51\u001b[0m             \u001b[0;32melse\u001b[0m\u001b[0;34m:\u001b[0m\u001b[0;34m\u001b[0m\u001b[0;34m\u001b[0m\u001b[0m\n\u001b[1;32m     52\u001b[0m                 \u001b[0mdata\u001b[0m \u001b[0;34m=\u001b[0m \u001b[0;34m[\u001b[0m\u001b[0mself\u001b[0m\u001b[0;34m.\u001b[0m\u001b[0mdataset\u001b[0m\u001b[0;34m[\u001b[0m\u001b[0midx\u001b[0m\u001b[0;34m]\u001b[0m \u001b[0;32mfor\u001b[0m \u001b[0midx\u001b[0m \u001b[0;32min\u001b[0m \u001b[0mpossibly_batched_index\u001b[0m\u001b[0;34m]\u001b[0m\u001b[0;34m\u001b[0m\u001b[0;34m\u001b[0m\u001b[0m\n\u001b[1;32m     53\u001b[0m         \u001b[0;32melse\u001b[0m\u001b[0;34m:\u001b[0m\u001b[0;34m\u001b[0m\u001b[0;34m\u001b[0m\u001b[0m\n",
      "\u001b[0;32m~/micromamba/lib/python3.9/site-packages/torch/utils/data/dataset.py\u001b[0m in \u001b[0;36m?\u001b[0;34m(self, indices)\u001b[0m\n\u001b[1;32m    416\u001b[0m         \u001b[0;31m# see torch.utils.data._utils.fetch._MapDatasetFetcher\u001b[0m\u001b[0;34m\u001b[0m\u001b[0;34m\u001b[0m\u001b[0m\n\u001b[1;32m    417\u001b[0m         \u001b[0;32mif\u001b[0m \u001b[0mcallable\u001b[0m\u001b[0;34m(\u001b[0m\u001b[0mgetattr\u001b[0m\u001b[0;34m(\u001b[0m\u001b[0mself\u001b[0m\u001b[0;34m.\u001b[0m\u001b[0mdataset\u001b[0m\u001b[0;34m,\u001b[0m \u001b[0;34m\"__getitems__\"\u001b[0m\u001b[0;34m,\u001b[0m \u001b[0;32mNone\u001b[0m\u001b[0;34m)\u001b[0m\u001b[0;34m)\u001b[0m\u001b[0;34m:\u001b[0m\u001b[0;34m\u001b[0m\u001b[0;34m\u001b[0m\u001b[0m\n\u001b[1;32m    418\u001b[0m             \u001b[0;32mreturn\u001b[0m \u001b[0mself\u001b[0m\u001b[0;34m.\u001b[0m\u001b[0mdataset\u001b[0m\u001b[0;34m.\u001b[0m\u001b[0m__getitems__\u001b[0m\u001b[0;34m(\u001b[0m\u001b[0;34m[\u001b[0m\u001b[0mself\u001b[0m\u001b[0;34m.\u001b[0m\u001b[0mindices\u001b[0m\u001b[0;34m[\u001b[0m\u001b[0midx\u001b[0m\u001b[0;34m]\u001b[0m \u001b[0;32mfor\u001b[0m \u001b[0midx\u001b[0m \u001b[0;32min\u001b[0m \u001b[0mindices\u001b[0m\u001b[0;34m]\u001b[0m\u001b[0;34m)\u001b[0m  \u001b[0;31m# type: ignore[attr-defined]\u001b[0m\u001b[0;34m\u001b[0m\u001b[0;34m\u001b[0m\u001b[0m\n\u001b[1;32m    419\u001b[0m         \u001b[0;32melse\u001b[0m\u001b[0;34m:\u001b[0m\u001b[0;34m\u001b[0m\u001b[0;34m\u001b[0m\u001b[0m\n\u001b[0;32m--> 420\u001b[0;31m             \u001b[0;32mreturn\u001b[0m \u001b[0;34m[\u001b[0m\u001b[0mself\u001b[0m\u001b[0;34m.\u001b[0m\u001b[0mdataset\u001b[0m\u001b[0;34m[\u001b[0m\u001b[0mself\u001b[0m\u001b[0;34m.\u001b[0m\u001b[0mindices\u001b[0m\u001b[0;34m[\u001b[0m\u001b[0midx\u001b[0m\u001b[0;34m]\u001b[0m\u001b[0;34m]\u001b[0m \u001b[0;32mfor\u001b[0m \u001b[0midx\u001b[0m \u001b[0;32min\u001b[0m \u001b[0mindices\u001b[0m\u001b[0;34m]\u001b[0m\u001b[0;34m\u001b[0m\u001b[0;34m\u001b[0m\u001b[0m\n\u001b[0m",
      "\u001b[0;32m~/micromamba/lib/python3.9/site-packages/torch/utils/data/dataset.py\u001b[0m in \u001b[0;36m?\u001b[0;34m(.0)\u001b[0m\n\u001b[0;32m--> 420\u001b[0;31m     \u001b[0;32mdef\u001b[0m \u001b[0m__getitems__\u001b[0m\u001b[0;34m(\u001b[0m\u001b[0mself\u001b[0m\u001b[0;34m,\u001b[0m \u001b[0mindices\u001b[0m\u001b[0;34m:\u001b[0m \u001b[0mList\u001b[0m\u001b[0;34m[\u001b[0m\u001b[0mint\u001b[0m\u001b[0;34m]\u001b[0m\u001b[0;34m)\u001b[0m \u001b[0;34m->\u001b[0m \u001b[0mList\u001b[0m\u001b[0;34m[\u001b[0m\u001b[0m_T_co\u001b[0m\u001b[0;34m]\u001b[0m\u001b[0;34m:\u001b[0m\u001b[0;34m\u001b[0m\u001b[0;34m\u001b[0m\u001b[0m\n\u001b[0m\u001b[1;32m    421\u001b[0m         \u001b[0;31m# add batched sampling support when parent dataset supports it.\u001b[0m\u001b[0;34m\u001b[0m\u001b[0;34m\u001b[0m\u001b[0m\n\u001b[1;32m    422\u001b[0m         \u001b[0;31m# see torch.utils.data._utils.fetch._MapDatasetFetcher\u001b[0m\u001b[0;34m\u001b[0m\u001b[0;34m\u001b[0m\u001b[0m\n\u001b[1;32m    423\u001b[0m         \u001b[0;32mif\u001b[0m \u001b[0mcallable\u001b[0m\u001b[0;34m(\u001b[0m\u001b[0mgetattr\u001b[0m\u001b[0;34m(\u001b[0m\u001b[0mself\u001b[0m\u001b[0;34m.\u001b[0m\u001b[0mdataset\u001b[0m\u001b[0;34m,\u001b[0m \u001b[0;34m\"__getitems__\"\u001b[0m\u001b[0;34m,\u001b[0m \u001b[0;32mNone\u001b[0m\u001b[0;34m)\u001b[0m\u001b[0;34m)\u001b[0m\u001b[0;34m:\u001b[0m\u001b[0;34m\u001b[0m\u001b[0;34m\u001b[0m\u001b[0m\n",
      "\u001b[0;32m/tmp/ipykernel_528098/1969552246.py\u001b[0m in \u001b[0;36m?\u001b[0;34m(self, index)\u001b[0m\n\u001b[1;32m      7\u001b[0m   \u001b[0;32mdef\u001b[0m \u001b[0m__getitem__\u001b[0m\u001b[0;34m(\u001b[0m\u001b[0mself\u001b[0m\u001b[0;34m,\u001b[0m \u001b[0mindex\u001b[0m\u001b[0;34m)\u001b[0m\u001b[0;34m:\u001b[0m\u001b[0;34m\u001b[0m\u001b[0;34m\u001b[0m\u001b[0m\n\u001b[1;32m      8\u001b[0m     \u001b[0mrow\u001b[0m \u001b[0;34m=\u001b[0m \u001b[0mself\u001b[0m\u001b[0;34m.\u001b[0m\u001b[0mframe\u001b[0m\u001b[0;34m.\u001b[0m\u001b[0mloc\u001b[0m\u001b[0;34m[\u001b[0m\u001b[0mindex\u001b[0m\u001b[0;34m]\u001b[0m\u001b[0;34m\u001b[0m\u001b[0;34m\u001b[0m\u001b[0m\n\u001b[1;32m      9\u001b[0m     \u001b[0mpath\u001b[0m \u001b[0;34m=\u001b[0m \u001b[0mos\u001b[0m\u001b[0;34m.\u001b[0m\u001b[0mpath\u001b[0m\u001b[0;34m.\u001b[0m\u001b[0mjoin\u001b[0m\u001b[0;34m(\u001b[0m\u001b[0mself\u001b[0m\u001b[0;34m.\u001b[0m\u001b[0mdatadir\u001b[0m\u001b[0;34m,\u001b[0m \u001b[0mrow\u001b[0m\u001b[0;34m[\u001b[0m\u001b[0;34m'ID'\u001b[0m\u001b[0;34m]\u001b[0m\u001b[0;34m+\u001b[0m\u001b[0;34m\".png\"\u001b[0m\u001b[0;34m)\u001b[0m\u001b[0;34m\u001b[0m\u001b[0;34m\u001b[0m\u001b[0m\n\u001b[0;32m---> 10\u001b[0;31m     \u001b[0mimg\u001b[0m \u001b[0;34m=\u001b[0m \u001b[0msitk\u001b[0m\u001b[0;34m.\u001b[0m\u001b[0mReadImage\u001b[0m\u001b[0;34m(\u001b[0m\u001b[0mpath\u001b[0m\u001b[0;34m)\u001b[0m\u001b[0;34m\u001b[0m\u001b[0;34m\u001b[0m\u001b[0m\n\u001b[0m\u001b[1;32m     11\u001b[0m     \u001b[0mimg\u001b[0m \u001b[0;34m=\u001b[0m \u001b[0msitk\u001b[0m\u001b[0;34m.\u001b[0m\u001b[0mGetArrayFromImage\u001b[0m\u001b[0;34m(\u001b[0m\u001b[0mimg\u001b[0m\u001b[0;34m)\u001b[0m\u001b[0;34m\u001b[0m\u001b[0;34m\u001b[0m\u001b[0m\n\u001b[1;32m     12\u001b[0m     \u001b[0mlabel\u001b[0m \u001b[0;34m=\u001b[0m \u001b[0mrow\u001b[0m\u001b[0;34m.\u001b[0m\u001b[0miloc\u001b[0m\u001b[0;34m[\u001b[0m\u001b[0;36m2\u001b[0m\u001b[0;34m:\u001b[0m\u001b[0;34m]\u001b[0m\u001b[0;34m.\u001b[0m\u001b[0mapply\u001b[0m\u001b[0;34m(\u001b[0m\u001b[0;32mlambda\u001b[0m \u001b[0mx\u001b[0m\u001b[0;34m:\u001b[0m \u001b[0mfloat\u001b[0m\u001b[0;34m(\u001b[0m\u001b[0mx\u001b[0m\u001b[0;34m)\u001b[0m\u001b[0;34m)\u001b[0m\u001b[0;34m\u001b[0m\u001b[0;34m\u001b[0m\u001b[0m\n\u001b[1;32m     13\u001b[0m     ret = {\n",
      "\u001b[0;32m~/micromamba/lib/python3.9/site-packages/SimpleITK/extra.py\u001b[0m in \u001b[0;36m?\u001b[0;34m(fileName, outputPixelType, imageIO)\u001b[0m\n\u001b[1;32m    380\u001b[0m         \u001b[0mreader\u001b[0m\u001b[0;34m.\u001b[0m\u001b[0mSetFileNames\u001b[0m\u001b[0;34m(\u001b[0m\u001b[0mfileName\u001b[0m\u001b[0;34m)\u001b[0m\u001b[0;34m\u001b[0m\u001b[0;34m\u001b[0m\u001b[0m\n\u001b[1;32m    381\u001b[0m \u001b[0;34m\u001b[0m\u001b[0m\n\u001b[1;32m    382\u001b[0m     \u001b[0mreader\u001b[0m\u001b[0;34m.\u001b[0m\u001b[0mSetImageIO\u001b[0m\u001b[0;34m(\u001b[0m\u001b[0mimageIO\u001b[0m\u001b[0;34m)\u001b[0m\u001b[0;34m\u001b[0m\u001b[0;34m\u001b[0m\u001b[0m\n\u001b[1;32m    383\u001b[0m     \u001b[0mreader\u001b[0m\u001b[0;34m.\u001b[0m\u001b[0mSetOutputPixelType\u001b[0m\u001b[0;34m(\u001b[0m\u001b[0moutputPixelType\u001b[0m\u001b[0;34m)\u001b[0m\u001b[0;34m\u001b[0m\u001b[0;34m\u001b[0m\u001b[0m\n\u001b[0;32m--> 384\u001b[0;31m     \u001b[0;32mreturn\u001b[0m \u001b[0mreader\u001b[0m\u001b[0;34m.\u001b[0m\u001b[0mExecute\u001b[0m\u001b[0;34m(\u001b[0m\u001b[0;34m)\u001b[0m\u001b[0;34m\u001b[0m\u001b[0;34m\u001b[0m\u001b[0m\n\u001b[0m",
      "\u001b[0;32m~/micromamba/lib/python3.9/site-packages/SimpleITK/SimpleITK.py\u001b[0m in \u001b[0;36m?\u001b[0;34m(self)\u001b[0m\n\u001b[1;32m   8498\u001b[0m         \u001b[0mtype\u001b[0m \u001b[0mto\u001b[0m \u001b[0mbe\u001b[0m \u001b[0msame\u001b[0m \u001b[0;32mas\u001b[0m \u001b[0mthe\u001b[0m \u001b[0mfile\u001b[0m\u001b[0;34m.\u001b[0m \u001b[0mIf\u001b[0m \u001b[0mthe\u001b[0m \u001b[0mpixel\u001b[0m \u001b[0mtype\u001b[0m \u001b[0;32mis\u001b[0m \u001b[0mspecified\u001b[0m \u001b[0mthen\u001b[0m \u001b[0mthe\u001b[0m \u001b[0mitk\u001b[0m\u001b[0;34m:\u001b[0m\u001b[0;34m:\u001b[0m\u001b[0mConvertPixelBuffer\u001b[0m \u001b[0mwill\u001b[0m \u001b[0mbe\u001b[0m \u001b[0mused\u001b[0m \u001b[0mto\u001b[0m \u001b[0mconvert\u001b[0m \u001b[0mthe\u001b[0m \u001b[0mpixels\u001b[0m\u001b[0;34m.\u001b[0m\u001b[0;34m\u001b[0m\u001b[0;34m\u001b[0m\u001b[0m\n\u001b[1;32m   8499\u001b[0m \u001b[0;34m\u001b[0m\u001b[0m\n\u001b[1;32m   8500\u001b[0m \u001b[0;34m\u001b[0m\u001b[0m\n\u001b[1;32m   8501\u001b[0m         \"\"\"\n\u001b[0;32m-> 8502\u001b[0;31m         \u001b[0;32mreturn\u001b[0m \u001b[0m_SimpleITK\u001b[0m\u001b[0;34m.\u001b[0m\u001b[0mImageFileReader_Execute\u001b[0m\u001b[0;34m(\u001b[0m\u001b[0mself\u001b[0m\u001b[0;34m)\u001b[0m\u001b[0;34m\u001b[0m\u001b[0;34m\u001b[0m\u001b[0m\n\u001b[0m",
      "\u001b[0;31mKeyboardInterrupt\u001b[0m: "
     ]
    }
   ],
   "source": [
    "train(net, trainloader, validloader, 30, optimizer, loss_fn, DEVICE, f\"{root}Models\")"
   ]
  },
  {
   "cell_type": "markdown",
   "metadata": {},
   "source": [
    "## 제출및 결과"
   ]
  },
  {
   "cell_type": "code",
   "execution_count": 14,
   "metadata": {
    "id": "Dy_NMux8Jeh3"
   },
   "outputs": [],
   "source": [
    "def submission(net, testloader, device, keys, subframePath = f'{root}sample_submission.csv'):\n",
    "  net.eval()\n",
    "  submit = pd.read_csv(subframePath)\n",
    "  submit.iloc[:, 1:] = inference(net, testloader, device).astype(np.float32)\n",
    "  submit.to_csv('./result.csv', index=False)\n",
    "  return submit\n",
    "def inference(model, test_loader, device):\n",
    "    model.eval()\n",
    "    preds = []\n",
    "    with torch.no_grad():\n",
    "        for batch in tqdm(test_loader):\n",
    "            img= [b[\"img\"].to(device) for b in batch]\n",
    "            img = torch.stack(img)\n",
    "            pred = model(img)\n",
    "            preds.append(pred.detach().cpu())\n",
    "    \n",
    "    preds = torch.cat(preds).numpy()\n",
    "\n",
    "    return preds"
   ]
  },
  {
   "cell_type": "markdown",
   "metadata": {},
   "source": [
    "#### 가지치기"
   ]
  },
  {
   "cell_type": "code",
   "execution_count": 15,
   "metadata": {},
   "outputs": [],
   "source": [
    "def pruning(net:nn.Module):\n",
    "    for name, module in net.named_modules():\n",
    "        # 모든 2D-conv 층의 20% 연결에 대해 가지치기 기법을 적용\n",
    "        if isinstance(module, torch.nn.Conv2d):\n",
    "            prune.l1_unstructured(module, name='weight', amount=0.2)\n",
    "            # prune.l1_unstructured(module, name='bias', amount=2)\n",
    "        # 모든 선형 층의 40% 연결에 대해 가지치기 기법을 적용\n",
    "        elif isinstance(module, torch.nn.Linear):\n",
    "            prune.l1_unstructured(module, name='weight', amount=0.3)\n",
    "            # prune.l1_unstructured(module, name='bias', amount=3)\n",
    "        "
   ]
  },
  {
   "cell_type": "markdown",
   "metadata": {},
   "source": [
    "#### 체크포인트 모델 로드 및 결과"
   ]
  },
  {
   "cell_type": "code",
   "execution_count": 16,
   "metadata": {
    "id": "6MAhgfexQJG4"
   },
   "outputs": [
    {
     "name": "stderr",
     "output_type": "stream",
     "text": [
      "100%|██████████| 36/36 [00:08<00:00,  4.29it/s]\n"
     ]
    },
    {
     "data": {
      "text/html": [
       "<div>\n",
       "<style scoped>\n",
       "    .dataframe tbody tr th:only-of-type {\n",
       "        vertical-align: middle;\n",
       "    }\n",
       "\n",
       "    .dataframe tbody tr th {\n",
       "        vertical-align: top;\n",
       "    }\n",
       "\n",
       "    .dataframe thead th {\n",
       "        text-align: right;\n",
       "    }\n",
       "</style>\n",
       "<table border=\"1\" class=\"dataframe\">\n",
       "  <thead>\n",
       "    <tr style=\"text-align: right;\">\n",
       "      <th></th>\n",
       "      <th>ID</th>\n",
       "      <th>AL645608.7</th>\n",
       "      <th>HES4</th>\n",
       "      <th>TNFRSF18</th>\n",
       "      <th>TNFRSF4</th>\n",
       "      <th>SDF4</th>\n",
       "      <th>ACAP3</th>\n",
       "      <th>INTS11</th>\n",
       "      <th>MXRA8</th>\n",
       "      <th>AL391244.2</th>\n",
       "      <th>...</th>\n",
       "      <th>MT-ATP8</th>\n",
       "      <th>MT-ATP6</th>\n",
       "      <th>MT-CO3</th>\n",
       "      <th>MT-ND3</th>\n",
       "      <th>MT-ND4L</th>\n",
       "      <th>MT-ND4</th>\n",
       "      <th>MT-ND5</th>\n",
       "      <th>MT-CYB</th>\n",
       "      <th>BX004987.1</th>\n",
       "      <th>AL592183.1</th>\n",
       "    </tr>\n",
       "  </thead>\n",
       "  <tbody>\n",
       "    <tr>\n",
       "      <th>0</th>\n",
       "      <td>TEST_0000</td>\n",
       "      <td>-0.000995</td>\n",
       "      <td>0.026969</td>\n",
       "      <td>-0.002195</td>\n",
       "      <td>-0.001081</td>\n",
       "      <td>0.646813</td>\n",
       "      <td>0.105283</td>\n",
       "      <td>0.203616</td>\n",
       "      <td>0.026514</td>\n",
       "      <td>-0.000420</td>\n",
       "      <td>...</td>\n",
       "      <td>0.290498</td>\n",
       "      <td>3.642795</td>\n",
       "      <td>3.859397</td>\n",
       "      <td>3.167519</td>\n",
       "      <td>1.478432</td>\n",
       "      <td>3.378892</td>\n",
       "      <td>1.713870</td>\n",
       "      <td>3.356684</td>\n",
       "      <td>-0.000674</td>\n",
       "      <td>-0.003059</td>\n",
       "    </tr>\n",
       "    <tr>\n",
       "      <th>1</th>\n",
       "      <td>TEST_0001</td>\n",
       "      <td>0.001193</td>\n",
       "      <td>0.017016</td>\n",
       "      <td>-0.003633</td>\n",
       "      <td>-0.001891</td>\n",
       "      <td>0.630105</td>\n",
       "      <td>0.085901</td>\n",
       "      <td>0.181992</td>\n",
       "      <td>0.027106</td>\n",
       "      <td>-0.003029</td>\n",
       "      <td>...</td>\n",
       "      <td>0.679742</td>\n",
       "      <td>4.191400</td>\n",
       "      <td>4.208060</td>\n",
       "      <td>3.702670</td>\n",
       "      <td>2.150257</td>\n",
       "      <td>3.981610</td>\n",
       "      <td>2.268077</td>\n",
       "      <td>3.813267</td>\n",
       "      <td>-0.000133</td>\n",
       "      <td>-0.004224</td>\n",
       "    </tr>\n",
       "    <tr>\n",
       "      <th>2</th>\n",
       "      <td>TEST_0002</td>\n",
       "      <td>-0.000641</td>\n",
       "      <td>0.024702</td>\n",
       "      <td>-0.003523</td>\n",
       "      <td>-0.002348</td>\n",
       "      <td>0.686605</td>\n",
       "      <td>0.092786</td>\n",
       "      <td>0.202835</td>\n",
       "      <td>0.026404</td>\n",
       "      <td>-0.001712</td>\n",
       "      <td>...</td>\n",
       "      <td>0.467365</td>\n",
       "      <td>3.834481</td>\n",
       "      <td>3.961667</td>\n",
       "      <td>3.337365</td>\n",
       "      <td>1.741116</td>\n",
       "      <td>3.602150</td>\n",
       "      <td>1.916714</td>\n",
       "      <td>3.497329</td>\n",
       "      <td>-0.000962</td>\n",
       "      <td>-0.006442</td>\n",
       "    </tr>\n",
       "    <tr>\n",
       "      <th>3</th>\n",
       "      <td>TEST_0003</td>\n",
       "      <td>0.000324</td>\n",
       "      <td>0.031164</td>\n",
       "      <td>-0.001641</td>\n",
       "      <td>-0.000882</td>\n",
       "      <td>0.612918</td>\n",
       "      <td>0.088884</td>\n",
       "      <td>0.194346</td>\n",
       "      <td>0.029698</td>\n",
       "      <td>-0.001187</td>\n",
       "      <td>...</td>\n",
       "      <td>0.362832</td>\n",
       "      <td>3.759809</td>\n",
       "      <td>3.897166</td>\n",
       "      <td>3.184016</td>\n",
       "      <td>1.621146</td>\n",
       "      <td>3.476542</td>\n",
       "      <td>1.827107</td>\n",
       "      <td>3.403340</td>\n",
       "      <td>-0.000438</td>\n",
       "      <td>-0.004821</td>\n",
       "    </tr>\n",
       "    <tr>\n",
       "      <th>4</th>\n",
       "      <td>TEST_0004</td>\n",
       "      <td>-0.002218</td>\n",
       "      <td>0.047416</td>\n",
       "      <td>-0.005217</td>\n",
       "      <td>-0.002718</td>\n",
       "      <td>0.672703</td>\n",
       "      <td>0.100077</td>\n",
       "      <td>0.259149</td>\n",
       "      <td>0.036827</td>\n",
       "      <td>0.001217</td>\n",
       "      <td>...</td>\n",
       "      <td>0.278126</td>\n",
       "      <td>3.750371</td>\n",
       "      <td>4.108978</td>\n",
       "      <td>3.457803</td>\n",
       "      <td>1.486155</td>\n",
       "      <td>3.391016</td>\n",
       "      <td>1.772501</td>\n",
       "      <td>3.539382</td>\n",
       "      <td>-0.004026</td>\n",
       "      <td>-0.008743</td>\n",
       "    </tr>\n",
       "    <tr>\n",
       "      <th>...</th>\n",
       "      <td>...</td>\n",
       "      <td>...</td>\n",
       "      <td>...</td>\n",
       "      <td>...</td>\n",
       "      <td>...</td>\n",
       "      <td>...</td>\n",
       "      <td>...</td>\n",
       "      <td>...</td>\n",
       "      <td>...</td>\n",
       "      <td>...</td>\n",
       "      <td>...</td>\n",
       "      <td>...</td>\n",
       "      <td>...</td>\n",
       "      <td>...</td>\n",
       "      <td>...</td>\n",
       "      <td>...</td>\n",
       "      <td>...</td>\n",
       "      <td>...</td>\n",
       "      <td>...</td>\n",
       "      <td>...</td>\n",
       "      <td>...</td>\n",
       "    </tr>\n",
       "    <tr>\n",
       "      <th>2272</th>\n",
       "      <td>TEST_2272</td>\n",
       "      <td>0.000223</td>\n",
       "      <td>0.016898</td>\n",
       "      <td>-0.003225</td>\n",
       "      <td>-0.001345</td>\n",
       "      <td>0.667331</td>\n",
       "      <td>0.089585</td>\n",
       "      <td>0.176842</td>\n",
       "      <td>0.023023</td>\n",
       "      <td>-0.003823</td>\n",
       "      <td>...</td>\n",
       "      <td>0.564115</td>\n",
       "      <td>3.975902</td>\n",
       "      <td>4.020772</td>\n",
       "      <td>3.484323</td>\n",
       "      <td>1.960104</td>\n",
       "      <td>3.737813</td>\n",
       "      <td>2.131976</td>\n",
       "      <td>3.592626</td>\n",
       "      <td>-0.000460</td>\n",
       "      <td>-0.005816</td>\n",
       "    </tr>\n",
       "    <tr>\n",
       "      <th>2273</th>\n",
       "      <td>TEST_2273</td>\n",
       "      <td>0.000481</td>\n",
       "      <td>0.006935</td>\n",
       "      <td>-0.003336</td>\n",
       "      <td>-0.000497</td>\n",
       "      <td>0.605432</td>\n",
       "      <td>0.082924</td>\n",
       "      <td>0.169376</td>\n",
       "      <td>0.028189</td>\n",
       "      <td>-0.003892</td>\n",
       "      <td>...</td>\n",
       "      <td>0.727561</td>\n",
       "      <td>4.226516</td>\n",
       "      <td>4.203852</td>\n",
       "      <td>3.734321</td>\n",
       "      <td>2.242800</td>\n",
       "      <td>3.989810</td>\n",
       "      <td>2.361582</td>\n",
       "      <td>3.797792</td>\n",
       "      <td>-0.000482</td>\n",
       "      <td>-0.003150</td>\n",
       "    </tr>\n",
       "    <tr>\n",
       "      <th>2274</th>\n",
       "      <td>TEST_2274</td>\n",
       "      <td>0.000502</td>\n",
       "      <td>0.027697</td>\n",
       "      <td>-0.003052</td>\n",
       "      <td>-0.002865</td>\n",
       "      <td>0.648260</td>\n",
       "      <td>0.089286</td>\n",
       "      <td>0.207742</td>\n",
       "      <td>0.025825</td>\n",
       "      <td>-0.002131</td>\n",
       "      <td>...</td>\n",
       "      <td>0.485581</td>\n",
       "      <td>3.882975</td>\n",
       "      <td>3.998059</td>\n",
       "      <td>3.371432</td>\n",
       "      <td>1.794583</td>\n",
       "      <td>3.638407</td>\n",
       "      <td>2.004796</td>\n",
       "      <td>3.492051</td>\n",
       "      <td>-0.001242</td>\n",
       "      <td>-0.004674</td>\n",
       "    </tr>\n",
       "    <tr>\n",
       "      <th>2275</th>\n",
       "      <td>TEST_2275</td>\n",
       "      <td>-0.000739</td>\n",
       "      <td>0.031264</td>\n",
       "      <td>-0.002814</td>\n",
       "      <td>-0.003093</td>\n",
       "      <td>0.695549</td>\n",
       "      <td>0.098013</td>\n",
       "      <td>0.227442</td>\n",
       "      <td>0.030719</td>\n",
       "      <td>-0.000653</td>\n",
       "      <td>...</td>\n",
       "      <td>0.324420</td>\n",
       "      <td>3.620099</td>\n",
       "      <td>3.850816</td>\n",
       "      <td>3.140908</td>\n",
       "      <td>1.462913</td>\n",
       "      <td>3.395839</td>\n",
       "      <td>1.687703</td>\n",
       "      <td>3.319991</td>\n",
       "      <td>-0.001508</td>\n",
       "      <td>-0.006086</td>\n",
       "    </tr>\n",
       "    <tr>\n",
       "      <th>2276</th>\n",
       "      <td>TEST_2276</td>\n",
       "      <td>0.001060</td>\n",
       "      <td>0.024748</td>\n",
       "      <td>-0.004378</td>\n",
       "      <td>-0.001922</td>\n",
       "      <td>0.639076</td>\n",
       "      <td>0.085464</td>\n",
       "      <td>0.192351</td>\n",
       "      <td>0.029320</td>\n",
       "      <td>-0.001814</td>\n",
       "      <td>...</td>\n",
       "      <td>0.620160</td>\n",
       "      <td>4.213515</td>\n",
       "      <td>4.219224</td>\n",
       "      <td>3.671135</td>\n",
       "      <td>2.084522</td>\n",
       "      <td>3.908374</td>\n",
       "      <td>2.249861</td>\n",
       "      <td>3.770566</td>\n",
       "      <td>-0.001438</td>\n",
       "      <td>-0.007814</td>\n",
       "    </tr>\n",
       "  </tbody>\n",
       "</table>\n",
       "<p>2277 rows × 3468 columns</p>\n",
       "</div>"
      ],
      "text/plain": [
       "             ID  AL645608.7      HES4  TNFRSF18   TNFRSF4      SDF4     ACAP3  \\\n",
       "0     TEST_0000   -0.000995  0.026969 -0.002195 -0.001081  0.646813  0.105283   \n",
       "1     TEST_0001    0.001193  0.017016 -0.003633 -0.001891  0.630105  0.085901   \n",
       "2     TEST_0002   -0.000641  0.024702 -0.003523 -0.002348  0.686605  0.092786   \n",
       "3     TEST_0003    0.000324  0.031164 -0.001641 -0.000882  0.612918  0.088884   \n",
       "4     TEST_0004   -0.002218  0.047416 -0.005217 -0.002718  0.672703  0.100077   \n",
       "...         ...         ...       ...       ...       ...       ...       ...   \n",
       "2272  TEST_2272    0.000223  0.016898 -0.003225 -0.001345  0.667331  0.089585   \n",
       "2273  TEST_2273    0.000481  0.006935 -0.003336 -0.000497  0.605432  0.082924   \n",
       "2274  TEST_2274    0.000502  0.027697 -0.003052 -0.002865  0.648260  0.089286   \n",
       "2275  TEST_2275   -0.000739  0.031264 -0.002814 -0.003093  0.695549  0.098013   \n",
       "2276  TEST_2276    0.001060  0.024748 -0.004378 -0.001922  0.639076  0.085464   \n",
       "\n",
       "        INTS11     MXRA8  AL391244.2  ...   MT-ATP8   MT-ATP6    MT-CO3  \\\n",
       "0     0.203616  0.026514   -0.000420  ...  0.290498  3.642795  3.859397   \n",
       "1     0.181992  0.027106   -0.003029  ...  0.679742  4.191400  4.208060   \n",
       "2     0.202835  0.026404   -0.001712  ...  0.467365  3.834481  3.961667   \n",
       "3     0.194346  0.029698   -0.001187  ...  0.362832  3.759809  3.897166   \n",
       "4     0.259149  0.036827    0.001217  ...  0.278126  3.750371  4.108978   \n",
       "...        ...       ...         ...  ...       ...       ...       ...   \n",
       "2272  0.176842  0.023023   -0.003823  ...  0.564115  3.975902  4.020772   \n",
       "2273  0.169376  0.028189   -0.003892  ...  0.727561  4.226516  4.203852   \n",
       "2274  0.207742  0.025825   -0.002131  ...  0.485581  3.882975  3.998059   \n",
       "2275  0.227442  0.030719   -0.000653  ...  0.324420  3.620099  3.850816   \n",
       "2276  0.192351  0.029320   -0.001814  ...  0.620160  4.213515  4.219224   \n",
       "\n",
       "        MT-ND3   MT-ND4L    MT-ND4    MT-ND5    MT-CYB  BX004987.1  AL592183.1  \n",
       "0     3.167519  1.478432  3.378892  1.713870  3.356684   -0.000674   -0.003059  \n",
       "1     3.702670  2.150257  3.981610  2.268077  3.813267   -0.000133   -0.004224  \n",
       "2     3.337365  1.741116  3.602150  1.916714  3.497329   -0.000962   -0.006442  \n",
       "3     3.184016  1.621146  3.476542  1.827107  3.403340   -0.000438   -0.004821  \n",
       "4     3.457803  1.486155  3.391016  1.772501  3.539382   -0.004026   -0.008743  \n",
       "...        ...       ...       ...       ...       ...         ...         ...  \n",
       "2272  3.484323  1.960104  3.737813  2.131976  3.592626   -0.000460   -0.005816  \n",
       "2273  3.734321  2.242800  3.989810  2.361582  3.797792   -0.000482   -0.003150  \n",
       "2274  3.371432  1.794583  3.638407  2.004796  3.492051   -0.001242   -0.004674  \n",
       "2275  3.140908  1.462913  3.395839  1.687703  3.319991   -0.001508   -0.006086  \n",
       "2276  3.671135  2.084522  3.908374  2.249861  3.770566   -0.001438   -0.007814  \n",
       "\n",
       "[2277 rows x 3468 columns]"
      ]
     },
     "execution_count": 16,
     "metadata": {},
     "output_type": "execute_result"
    }
   ],
   "source": [
    "net = CustomResNet(classnum)\n",
    "net.float()\n",
    "net.to(DEVICE)\n",
    "net.load_state_dict(torch.load(f\"{root}/Models/net.pt\", weights_only=True))\n",
    "pruning(net)\n",
    "submission(net, testloader, DEVICE, submissionframe.columns[1:])"
   ]
  }
 ],
 "metadata": {
  "accelerator": "GPU",
  "colab": {
   "authorship_tag": "ABX9TyMlESUWOCwVHipp2oUI6tOw",
   "gpuType": "T4",
   "machine_shape": "hm",
   "provenance": []
  },
  "kernelspec": {
   "display_name": "base",
   "language": "python",
   "name": "python3"
  },
  "language_info": {
   "codemirror_mode": {
    "name": "ipython",
    "version": 3
   },
   "file_extension": ".py",
   "mimetype": "text/x-python",
   "name": "python",
   "nbconvert_exporter": "python",
   "pygments_lexer": "ipython3",
   "version": "3.9.21"
  }
 },
 "nbformat": 4,
 "nbformat_minor": 0
}
